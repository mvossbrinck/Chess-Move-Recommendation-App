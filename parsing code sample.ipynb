{
 "cells": [
  {
   "cell_type": "code",
   "execution_count": 14,
   "id": "surgical-illness",
   "metadata": {},
   "outputs": [
    {
     "ename": "ParseError",
     "evalue": "Expected ' ' or '\\n' or r'[0-9]+' or '1/2-1/2' or '1-0' or '0-1' but found '\\t   '\nLine 13, character 1\n\n\t   1.\td4 \td5 \n^              ",
     "output_type": "error",
     "traceback": [
      "\u001b[0;31m---------------------------------------------------------------------------\u001b[0m",
      "\u001b[0;31mParseError\u001b[0m                                Traceback (most recent call last)",
      "\u001b[0;32m<ipython-input-14-54ad796aba14>\u001b[0m in \u001b[0;36m<module>\u001b[0;34m\u001b[0m\n\u001b[1;32m     48\u001b[0m \u001b[0;31m# Parse the file\u001b[0m\u001b[0;34m\u001b[0m\u001b[0;34m\u001b[0m\u001b[0;34m\u001b[0m\u001b[0m\n\u001b[1;32m     49\u001b[0m \u001b[0;32mwith\u001b[0m \u001b[0mopen\u001b[0m\u001b[0;34m(\u001b[0m\u001b[0;34m'all.pgn'\u001b[0m\u001b[0;34m,\u001b[0m \u001b[0;34m'r'\u001b[0m\u001b[0;34m,\u001b[0m \u001b[0mencoding\u001b[0m\u001b[0;34m=\u001b[0m\u001b[0;34m\"utf8\"\u001b[0m\u001b[0;34m,\u001b[0m \u001b[0merrors\u001b[0m\u001b[0;34m=\u001b[0m\u001b[0;34m'ignore'\u001b[0m\u001b[0;34m)\u001b[0m \u001b[0;32mas\u001b[0m \u001b[0mf\u001b[0m\u001b[0;34m:\u001b[0m\u001b[0;34m\u001b[0m\u001b[0;34m\u001b[0m\u001b[0m\n\u001b[0;32m---> 50\u001b[0;31m     \u001b[0mparsedoutput\u001b[0m \u001b[0;34m=\u001b[0m \u001b[0mfile\u001b[0m\u001b[0;34m.\u001b[0m\u001b[0mparse\u001b[0m\u001b[0;34m(\u001b[0m\u001b[0mf\u001b[0m\u001b[0;34m.\u001b[0m\u001b[0mread\u001b[0m\u001b[0;34m(\u001b[0m\u001b[0;34m)\u001b[0m\u001b[0;34m)\u001b[0m\u001b[0;34m.\u001b[0m\u001b[0mor_die\u001b[0m\u001b[0;34m(\u001b[0m\u001b[0;34m)\u001b[0m\u001b[0;34m\u001b[0m\u001b[0;34m\u001b[0m\u001b[0m\n\u001b[0m",
      "\u001b[0;32m~/miniforge3/lib/python3.8/site-packages/parsita/state.py\u001b[0m in \u001b[0;36mor_die\u001b[0;34m(self)\u001b[0m\n\u001b[1;32m    266\u001b[0m \u001b[0;34m\u001b[0m\u001b[0m\n\u001b[1;32m    267\u001b[0m     \u001b[0;32mdef\u001b[0m \u001b[0mor_die\u001b[0m\u001b[0;34m(\u001b[0m\u001b[0mself\u001b[0m\u001b[0;34m)\u001b[0m\u001b[0;34m:\u001b[0m\u001b[0;34m\u001b[0m\u001b[0;34m\u001b[0m\u001b[0m\n\u001b[0;32m--> 268\u001b[0;31m         \u001b[0;32mraise\u001b[0m \u001b[0mParseError\u001b[0m\u001b[0;34m(\u001b[0m\u001b[0mself\u001b[0m\u001b[0;34m.\u001b[0m\u001b[0mmessage\u001b[0m\u001b[0;34m)\u001b[0m\u001b[0;34m\u001b[0m\u001b[0;34m\u001b[0m\u001b[0m\n\u001b[0m\u001b[1;32m    269\u001b[0m \u001b[0;34m\u001b[0m\u001b[0m\n\u001b[1;32m    270\u001b[0m     \u001b[0;32mdef\u001b[0m \u001b[0m__eq__\u001b[0m\u001b[0;34m(\u001b[0m\u001b[0mself\u001b[0m\u001b[0;34m,\u001b[0m \u001b[0mother\u001b[0m\u001b[0;34m)\u001b[0m\u001b[0;34m:\u001b[0m\u001b[0;34m\u001b[0m\u001b[0;34m\u001b[0m\u001b[0m\n",
      "\u001b[0;31mParseError\u001b[0m: Expected ' ' or '\\n' or r'[0-9]+' or '1/2-1/2' or '1-0' or '0-1' but found '\\t   '\nLine 13, character 1\n\n\t   1.\td4 \td5 \n^              "
     ]
    }
   ],
   "source": [
    "from parsita import *\n",
    "from parsita.util import constant\n",
    "import json\n",
    "\n",
    "# Conversion functions\n",
    "def formatannotations(annotations):\n",
    "    return {ant[0]: ant[1] for ant in annotations}\n",
    "\n",
    "def formatgame(game):\n",
    "    return {\n",
    "        'moves': game[0],\n",
    "        'outcome': game[1]\n",
    "    }\n",
    "\n",
    "def formatentry(entry):\n",
    "    return {'annotations': entry[0], 'game': entry[1]}\n",
    "\n",
    "def handleoptional(optionalmove):\n",
    "    \n",
    "    if len(optionalmove) > 0:\n",
    "        return optionalmove[0]\n",
    "    \n",
    "    else:\n",
    "        return None\n",
    "    \n",
    "# PGN Grammar\n",
    "quote = lit(r'\"')\n",
    "tag = reg(r'[\\u0021-\\u0021\\u0023-\\u005A\\u005E-\\u007E]+')\n",
    "string = reg(r'[\\u0020-\\u0021\\u0023-\\u005A\\u005E-\\U0010FFFF]+')\n",
    "whitespace = lit(' ') | lit('\\n')\n",
    "annotation = '[' >> (tag) << ' ' & (quote >> string << quote) << ']'\n",
    "annotations = repsep(annotation, '\\n') > formatannotations\n",
    "nullmove = lit('--') # Illegal move rarely used in annotations\n",
    "longcastle = reg(r'O-O-O[+#]?')\n",
    "castle = reg(r'O-O[+#]?')\n",
    "regularmove = reg(r'[a-h1-8NBRQKx\\+#=]+') # Matches more than just chess moves\n",
    "move = regularmove | longcastle | castle | nullmove\n",
    "movenumber = (reg(r'[0-9]+') << '.' << whitespace) > int\n",
    "turn = movenumber & (move << whitespace) & (opt(move << whitespace) > handleoptional)\n",
    "draw = lit('1/2-1/2')\n",
    "white = lit('1-0')\n",
    "black = lit('0-1')\n",
    "outcome = draw | white | black\n",
    "game = (rep(turn) & outcome) > formatgame\n",
    "entry = ((annotations << rep(whitespace)) & (game << rep(whitespace))) > formatentry\n",
    "file = rep(entry)\n",
    "\n",
    "# Parse the file\n",
    "with open('all.pgn', 'r', encoding=\"utf8\", errors='ignore') as f:\n",
    "    parsedoutput = file.parse(f.read()).or_die()"
   ]
  },
  {
   "cell_type": "code",
   "execution_count": 13,
   "id": "certified-shore",
   "metadata": {},
   "outputs": [
    {
     "name": "stdout",
     "output_type": "stream",
     "text": [
      "Failure(\"Expected ' ' or '\\\\n' or r'[0-9]+' or '1/2-1/2' or '1-0' or '0-1' but found '\\\\t   '\\nLine 13, character 1\\n\\n\\t   1.\\td4 \\td5 \\n^              \")\n"
     ]
    }
   ],
   "source": [
    "print(parsedoutput)"
   ]
  },
  {
   "cell_type": "code",
   "execution_count": null,
   "id": "perfect-romantic",
   "metadata": {},
   "outputs": [],
   "source": []
  }
 ],
 "metadata": {
  "kernelspec": {
   "display_name": "Python 3",
   "language": "python",
   "name": "python3"
  },
  "language_info": {
   "codemirror_mode": {
    "name": "ipython",
    "version": 3
   },
   "file_extension": ".py",
   "mimetype": "text/x-python",
   "name": "python",
   "nbconvert_exporter": "python",
   "pygments_lexer": "ipython3",
   "version": "3.8.8"
  }
 },
 "nbformat": 4,
 "nbformat_minor": 5
}
