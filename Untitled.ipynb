{
 "cells": [
  {
   "cell_type": "code",
   "execution_count": 2,
   "id": "tropical-starter",
   "metadata": {},
   "outputs": [],
   "source": [
    "import pandas as pd"
   ]
  },
  {
   "cell_type": "code",
   "execution_count": 7,
   "id": "imperial-detector",
   "metadata": {},
   "outputs": [
    {
     "data": {
      "text/html": [
       "<div>\n",
       "<style scoped>\n",
       "    .dataframe tbody tr th:only-of-type {\n",
       "        vertical-align: middle;\n",
       "    }\n",
       "\n",
       "    .dataframe tbody tr th {\n",
       "        vertical-align: top;\n",
       "    }\n",
       "\n",
       "    .dataframe thead th {\n",
       "        text-align: right;\n",
       "    }\n",
       "</style>\n",
       "<table border=\"1\" class=\"dataframe\">\n",
       "  <thead>\n",
       "    <tr style=\"text-align: right;\">\n",
       "      <th></th>\n",
       "      <th># 1.t 2.date 3.result 4.welo 5.belo 6.len 7.date_c 8.resu_c 9.welo_c 10.belo_c 11.edate_c 12.setup 13.fen 14.resu2_c 15.oyrange 16.bad_len 17.game...</th>\n",
       "    </tr>\n",
       "  </thead>\n",
       "  <tbody>\n",
       "    <tr>\n",
       "      <th>0</th>\n",
       "      <td>1 2000.03.14 1-0 2851 None 67 date_false resul...</td>\n",
       "    </tr>\n",
       "    <tr>\n",
       "      <th>1</th>\n",
       "      <td>2 2000.03.14 1-0 2851 None 53 date_false resul...</td>\n",
       "    </tr>\n",
       "    <tr>\n",
       "      <th>2</th>\n",
       "      <td>3 1999.11.20 1-0 2851 None 57 date_false resul...</td>\n",
       "    </tr>\n",
       "    <tr>\n",
       "      <th>3</th>\n",
       "      <td>4 1999.11.20 1-0 2851 None 49 date_false resul...</td>\n",
       "    </tr>\n",
       "    <tr>\n",
       "      <th>4</th>\n",
       "      <td>5 2000.02.20 1/2-1/2 2851 2633 97 date_false r...</td>\n",
       "    </tr>\n",
       "  </tbody>\n",
       "</table>\n",
       "</div>"
      ],
      "text/plain": [
       "  # 1.t 2.date 3.result 4.welo 5.belo 6.len 7.date_c 8.resu_c 9.welo_c 10.belo_c 11.edate_c 12.setup 13.fen 14.resu2_c 15.oyrange 16.bad_len 17.game...\n",
       "0  1 2000.03.14 1-0 2851 None 67 date_false resul...                                                                                                   \n",
       "1  2 2000.03.14 1-0 2851 None 53 date_false resul...                                                                                                   \n",
       "2  3 1999.11.20 1-0 2851 None 57 date_false resul...                                                                                                   \n",
       "3  4 1999.11.20 1-0 2851 None 49 date_false resul...                                                                                                   \n",
       "4  5 2000.02.20 1/2-1/2 2851 2633 97 date_false r...                                                                                                   "
      ]
     },
     "execution_count": 7,
     "metadata": {},
     "output_type": "execute_result"
    }
   ],
   "source": [
    "chess = pd.read_csv('all_with_filtered_anotations_since1998.txt', skiprows=4, sep ='\\t')\n",
    "chess.head()"
   ]
  },
  {
   "cell_type": "code",
   "execution_count": 28,
   "id": "cutting-falls",
   "metadata": {},
   "outputs": [],
   "source": [
    "import chess\n",
    "import chess.pgn\n",
    "\n",
    "with open(\"all.pgn\") as pgn:\n",
    "    first_game = chess.pgn.read_game(pgn)\n"
   ]
  },
  {
   "cell_type": "code",
   "execution_count": 17,
   "id": "sticky-theater",
   "metadata": {},
   "outputs": [],
   "source": [
    "game = chess.pgn.Game()"
   ]
  },
  {
   "cell_type": "code",
   "execution_count": 29,
   "id": "identical-simpson",
   "metadata": {},
   "outputs": [
    {
     "data": {
      "text/plain": [
       "Headers(Event='Kasparov Chess sim', Site='New York', Date='2000.03.14', Round='6', White='Kasparov, Garry', Black='Stoffers, Jeffrey', Result='1-0', ECO='D35', EventDate='2000.03.??', WhiteElo='2851')"
      ]
     },
     "execution_count": 29,
     "metadata": {},
     "output_type": "execute_result"
    }
   ],
   "source": [
    "first_game.headers"
   ]
  },
  {
   "cell_type": "code",
   "execution_count": 15,
   "id": "attached-greek",
   "metadata": {},
   "outputs": [
    {
     "name": "stdout",
     "output_type": "stream",
     "text": [
      "[Event \"Kasparov Chess sim\"]\n",
      "[Site \"New York\"]\n",
      "[Date \"2000.03.14\"]\n",
      "[Round \"6\"]\n",
      "[White \"Kasparov, Garry\"]\n",
      "[Black \"Stoffers, Jeffrey\"]\n",
      "[Result \"1-0\"]\n",
      "[ECO \"D35\"]\n",
      "[EventDate \"2000.03.??\"]\n",
      "[WhiteElo \"2851\"]\n",
      "\n",
      "1-0\n"
     ]
    }
   ],
   "source": [
    "print(first_game)"
   ]
  },
  {
   "cell_type": "code",
   "execution_count": 30,
   "id": "sacred-october",
   "metadata": {},
   "outputs": [
    {
     "data": {
      "text/plain": [
       "<Mainline at 0x3ec5781f0 ()>"
      ]
     },
     "execution_count": 30,
     "metadata": {},
     "output_type": "execute_result"
    }
   ],
   "source": [
    "first_game.mainline()"
   ]
  },
  {
   "cell_type": "code",
   "execution_count": 16,
   "id": "neutral-birth",
   "metadata": {},
   "outputs": [
    {
     "name": "stdout",
     "output_type": "stream",
     "text": [
      "[Event \"?\"]\n",
      "[Site \"?\"]\n",
      "[Date \"????.??.??\"]\n",
      "[Round \"?\"]\n",
      "[White \"?\"]\n",
      "[Black \"?\"]\n",
      "[Result \"1-0\"]\n",
      "\n",
      "1. d4 d5 2. c4 e6 3. Nc3 Nf6 4. cxd5 exd5 5. Bg5 Be7 6. e3 Ne4 7. Bxe7 Nxc3 8. Bxd8 Nxd1 9. Bxc7 Nxb2 10. Rb1 Nc4 11. Bxc4 dxc4 12. Ne2 O-O 13. Nc3 b6 14. d5 Na6 15. Bd6 Rd8 16. Ba3 Bb7 17. e4 f6 18. Ke2 Nc7 19. Rhd1 Ba6 20. Ke3 Kf7 21. g4 g5 22. h4 h6 23. Rh1 Re8 24. f3 Bb7 25. hxg5 fxg5 26. d6 Nd5+ 27. Nxd5 Bxd5 28. Rxh6 c3 29. d7 Re6 30. Rh7+ Kg8 31. Rbh1 Bc6 32. Rh8+ Kf7 33. Rxa8 Bxd7 34. Rh7+ 1-0\n"
     ]
    }
   ],
   "source": [
    "second_game = chess.pgn.read_game(pgn)\n",
    "print(second_game)"
   ]
  },
  {
   "cell_type": "code",
   "execution_count": null,
   "id": "other-tuner",
   "metadata": {},
   "outputs": [],
   "source": []
  },
  {
   "cell_type": "code",
   "execution_count": 24,
   "id": "contrary-vector",
   "metadata": {},
   "outputs": [],
   "source": [
    "board=chess.Board() "
   ]
  },
  {
   "cell_type": "code",
   "execution_count": 25,
   "id": "rubber-mustang",
   "metadata": {},
   "outputs": [
    {
     "name": "stdout",
     "output_type": "stream",
     "text": [
      "r n b q k b n r\n",
      "p p p p p p p p\n",
      ". . . . . . . .\n",
      ". . . . . . . .\n",
      ". . . . . . . .\n",
      ". . . . . . . .\n",
      "P P P P P P P P\n",
      "R N B Q K B N R\n"
     ]
    }
   ],
   "source": [
    "print(board)"
   ]
  },
  {
   "cell_type": "code",
   "execution_count": 26,
   "id": "biological-bedroom",
   "metadata": {},
   "outputs": [
    {
     "data": {
      "text/plain": [
       "<LegalMoveGenerator at 0x3ec578280 (Nh3, Nf3, Nc3, Na3, h3, g3, f3, e3, d3, c3, b3, a3, h4, g4, f4, e4, d4, c4, b4, a4)>"
      ]
     },
     "execution_count": 26,
     "metadata": {},
     "output_type": "execute_result"
    }
   ],
   "source": [
    "board.legal_moves "
   ]
  },
  {
   "cell_type": "code",
   "execution_count": null,
   "id": "confident-window",
   "metadata": {},
   "outputs": [],
   "source": []
  }
 ],
 "metadata": {
  "kernelspec": {
   "display_name": "Python 3",
   "language": "python",
   "name": "python3"
  },
  "language_info": {
   "codemirror_mode": {
    "name": "ipython",
    "version": 3
   },
   "file_extension": ".py",
   "mimetype": "text/x-python",
   "name": "python",
   "nbconvert_exporter": "python",
   "pygments_lexer": "ipython3",
   "version": "3.9.2"
  }
 },
 "nbformat": 4,
 "nbformat_minor": 5
}
