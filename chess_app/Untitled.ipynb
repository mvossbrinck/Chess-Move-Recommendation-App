{
 "cells": [
  {
   "cell_type": "code",
   "execution_count": 1,
   "id": "existing-crime",
   "metadata": {},
   "outputs": [],
   "source": [
    "from chess_minimax import get_minimax_move"
   ]
  },
  {
   "cell_type": "code",
   "execution_count": 2,
   "id": "professional-brick",
   "metadata": {},
   "outputs": [
    {
     "data": {
      "text/plain": [
       "'Rh2'"
      ]
     },
     "execution_count": 2,
     "metadata": {},
     "output_type": "execute_result"
    }
   ],
   "source": [
    "get_minimax_move('rnbqkbnr/ppppp1pp/5p2/8/8/1P5P/P1PPPPP1/RNBQKBNR w')"
   ]
  },
  {
   "cell_type": "code",
   "execution_count": null,
   "id": "civilian-honolulu",
   "metadata": {},
   "outputs": [],
   "source": []
  }
 ],
 "metadata": {
  "kernelspec": {
   "display_name": "Python 3",
   "language": "python",
   "name": "python3"
  },
  "language_info": {
   "codemirror_mode": {
    "name": "ipython",
    "version": 3
   },
   "file_extension": ".py",
   "mimetype": "text/x-python",
   "name": "python",
   "nbconvert_exporter": "python",
   "pygments_lexer": "ipython3",
   "version": "3.8.8"
  }
 },
 "nbformat": 4,
 "nbformat_minor": 5
}
