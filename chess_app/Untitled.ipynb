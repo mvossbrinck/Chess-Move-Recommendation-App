{
 "cells": [
  {
   "cell_type": "code",
   "execution_count": 38,
   "id": "adequate-anthony",
   "metadata": {},
   "outputs": [],
   "source": [
    "import chess\n",
    "import numpy as np\n",
    "\n",
    "def get_random_move(fen_input):\n",
    "    board = chess.Board(fen_input)\n",
    "    legal_moves = list(board.legal_moves)\n",
    "    rand_move_num = np.random.randint(0,len(legal_moves))\n",
    "    random_move = board.san(legal_moves[rand_move_num])\n",
    "    return legal_moves"
   ]
  },
  {
   "cell_type": "code",
   "execution_count": 40,
   "id": "square-chorus",
   "metadata": {},
   "outputs": [
    {
     "data": {
      "text/plain": [
       "[Move.from_uci('h1h2'),\n",
       " Move.from_uci('g1f3'),\n",
       " Move.from_uci('c1a3'),\n",
       " Move.from_uci('c1b2'),\n",
       " Move.from_uci('b1c3'),\n",
       " Move.from_uci('b1a3'),\n",
       " Move.from_uci('h3h4'),\n",
       " Move.from_uci('b3b4'),\n",
       " Move.from_uci('g2g3'),\n",
       " Move.from_uci('f2f3'),\n",
       " Move.from_uci('e2e3'),\n",
       " Move.from_uci('d2d3'),\n",
       " Move.from_uci('c2c3'),\n",
       " Move.from_uci('a2a3'),\n",
       " Move.from_uci('g2g4'),\n",
       " Move.from_uci('f2f4'),\n",
       " Move.from_uci('e2e4'),\n",
       " Move.from_uci('d2d4'),\n",
       " Move.from_uci('c2c4'),\n",
       " Move.from_uci('a2a4')]"
      ]
     },
     "execution_count": 40,
     "metadata": {},
     "output_type": "execute_result"
    }
   ],
   "source": [
    "get_random_move('rnbqkbnr/ppppp1pp/5p2/8/8/1P5P/P1PPPPP1/RNBQKBNR w')"
   ]
  },
  {
   "cell_type": "code",
   "execution_count": null,
   "id": "composed-citizenship",
   "metadata": {},
   "outputs": [],
   "source": []
  },
  {
   "cell_type": "code",
   "execution_count": 41,
   "id": "irish-occurrence",
   "metadata": {},
   "outputs": [],
   "source": [
    "def whiteScore(fen_input):\n",
    "    piece_values = {\n",
    "        chess.PAWN: 100,\n",
    "        chess.ROOK: 500,\n",
    "        chess.KNIGHT: 320,\n",
    "        chess.BISHOP: 330,\n",
    "        chess.QUEEN: 900,\n",
    "        chess.KING: 20000\n",
    "        }\n",
    "\n",
    "    board = chess.Board(fen_input)\n",
    "    white_score = 0\n",
    "\n",
    "    for square in chess.SQUARES:\n",
    "        piece = board.piece_at(square)\n",
    "        if not piece:\n",
    "            continue\n",
    "        if piece.color == chess.WHITE:\n",
    "            white_score += piece_values[piece.piece_type]\n",
    "\n",
    "    return white_score"
   ]
  },
  {
   "cell_type": "code",
   "execution_count": 45,
   "id": "emotional-creature",
   "metadata": {},
   "outputs": [
    {
     "data": {
      "text/plain": [
       "23150"
      ]
     },
     "execution_count": 45,
     "metadata": {},
     "output_type": "execute_result"
    }
   ],
   "source": [
    "whiteScore('r1bqkbn1/ppp1p1pp/8/3p4/8/8/2PPPPPP/RN1QKB1R')"
   ]
  },
  {
   "cell_type": "code",
   "execution_count": 43,
   "id": "parliamentary-accreditation",
   "metadata": {},
   "outputs": [],
   "source": [
    "def blackScore(fen_input):\n",
    "    piece_values = {\n",
    "        chess.PAWN: 100,\n",
    "        chess.ROOK: 500,\n",
    "        chess.KNIGHT: 320,\n",
    "        chess.BISHOP: 330,\n",
    "        chess.QUEEN: 900,\n",
    "        chess.KING: 20000\n",
    "        }\n",
    "\n",
    "    board = chess.Board(fen_input)\n",
    "    black_score = 0\n",
    "\n",
    "    for square in chess.SQUARES:\n",
    "        piece = board.piece_at(square)\n",
    "        if not piece:\n",
    "            continue\n",
    "        if piece.color == chess.BLACK:\n",
    "            black_score += piece_values[piece.piece_type]\n",
    "\n",
    "    return black_score"
   ]
  },
  {
   "cell_type": "code",
   "execution_count": 46,
   "id": "private-community",
   "metadata": {},
   "outputs": [
    {
     "data": {
      "text/plain": [
       "23080"
      ]
     },
     "execution_count": 46,
     "metadata": {},
     "output_type": "execute_result"
    }
   ],
   "source": [
    "blackScore('r1bqkbn1/ppp1p1pp/8/3p4/8/8/2PPPPPP/RN1QKB1R')"
   ]
  },
  {
   "cell_type": "code",
   "execution_count": null,
   "id": "sustained-maximum",
   "metadata": {},
   "outputs": [],
   "source": []
  }
 ],
 "metadata": {
  "kernelspec": {
   "display_name": "Python 3",
   "language": "python",
   "name": "python3"
  },
  "language_info": {
   "codemirror_mode": {
    "name": "ipython",
    "version": 3
   },
   "file_extension": ".py",
   "mimetype": "text/x-python",
   "name": "python",
   "nbconvert_exporter": "python",
   "pygments_lexer": "ipython3",
   "version": "3.8.8"
  }
 },
 "nbformat": 4,
 "nbformat_minor": 5
}
