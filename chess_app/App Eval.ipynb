{
 "cells": [
  {
   "cell_type": "code",
   "execution_count": 95,
   "id": "invalid-vietnam",
   "metadata": {},
   "outputs": [],
   "source": [
    "import chess\n",
    "import numpy as np\n",
    "\n",
    "def get_random_move(fen_input):\n",
    "    board = chess.Board(fen_input)\n",
    "    legal_moves = list(board.legal_moves)\n",
    "    rand_move_num = np.random.randint(0,len(legal_moves))\n",
    "    random_move = board.san(legal_moves[rand_move_num])\n",
    "    return legal_moves"
   ]
  },
  {
   "cell_type": "code",
   "execution_count": 40,
   "id": "accredited-triple",
   "metadata": {},
   "outputs": [
    {
     "data": {
      "text/plain": [
       "[Move.from_uci('h1h2'),\n",
       " Move.from_uci('g1f3'),\n",
       " Move.from_uci('c1a3'),\n",
       " Move.from_uci('c1b2'),\n",
       " Move.from_uci('b1c3'),\n",
       " Move.from_uci('b1a3'),\n",
       " Move.from_uci('h3h4'),\n",
       " Move.from_uci('b3b4'),\n",
       " Move.from_uci('g2g3'),\n",
       " Move.from_uci('f2f3'),\n",
       " Move.from_uci('e2e3'),\n",
       " Move.from_uci('d2d3'),\n",
       " Move.from_uci('c2c3'),\n",
       " Move.from_uci('a2a3'),\n",
       " Move.from_uci('g2g4'),\n",
       " Move.from_uci('f2f4'),\n",
       " Move.from_uci('e2e4'),\n",
       " Move.from_uci('d2d4'),\n",
       " Move.from_uci('c2c4'),\n",
       " Move.from_uci('a2a4')]"
      ]
     },
     "execution_count": 40,
     "metadata": {},
     "output_type": "execute_result"
    }
   ],
   "source": [
    "get_random_move('rnbqkbnr/ppppp1pp/5p2/8/8/1P5P/P1PPPPP1/RNBQKBNR w')"
   ]
  },
  {
   "cell_type": "code",
   "execution_count": null,
   "id": "stock-solomon",
   "metadata": {},
   "outputs": [],
   "source": []
  },
  {
   "cell_type": "code",
   "execution_count": null,
   "id": "twelve-curtis",
   "metadata": {},
   "outputs": [],
   "source": []
  },
  {
   "cell_type": "code",
   "execution_count": 41,
   "id": "passing-springer",
   "metadata": {},
   "outputs": [],
   "source": [
    "def whiteScore(fen_input):\n",
    "    piece_values = {\n",
    "        chess.PAWN: 100,\n",
    "        chess.ROOK: 500,\n",
    "        chess.KNIGHT: 320,\n",
    "        chess.BISHOP: 330,\n",
    "        chess.QUEEN: 900,\n",
    "        chess.KING: 20000\n",
    "        }\n",
    "\n",
    "    board = chess.Board(fen_input)\n",
    "    white_score = 0\n",
    "\n",
    "    for square in chess.SQUARES:\n",
    "        piece = board.piece_at(square)\n",
    "        if not piece:\n",
    "            continue\n",
    "        if piece.color == chess.WHITE:\n",
    "            white_score += piece_values[piece.piece_type]\n",
    "\n",
    "    return white_score"
   ]
  },
  {
   "cell_type": "code",
   "execution_count": 45,
   "id": "immune-liverpool",
   "metadata": {},
   "outputs": [
    {
     "data": {
      "text/plain": [
       "23150"
      ]
     },
     "execution_count": 45,
     "metadata": {},
     "output_type": "execute_result"
    }
   ],
   "source": [
    "whiteScore('r1bqkbn1/ppp1p1pp/8/3p4/8/8/2PPPPPP/RN1QKB1R')"
   ]
  },
  {
   "cell_type": "code",
   "execution_count": 43,
   "id": "sublime-digest",
   "metadata": {},
   "outputs": [],
   "source": [
    "def blackScore(fen_input):\n",
    "    piece_values = {\n",
    "        chess.PAWN: 100,\n",
    "        chess.ROOK: 500,\n",
    "        chess.KNIGHT: 320,\n",
    "        chess.BISHOP: 330,\n",
    "        chess.QUEEN: 900,\n",
    "        chess.KING: 20000\n",
    "        }\n",
    "\n",
    "    board = chess.Board(fen_input)\n",
    "    black_score = 0\n",
    "\n",
    "    for square in chess.SQUARES:\n",
    "        piece = board.piece_at(square)\n",
    "        if not piece:\n",
    "            continue\n",
    "        if piece.color == chess.BLACK:\n",
    "            black_score += piece_values[piece.piece_type]\n",
    "\n",
    "    return black_score"
   ]
  },
  {
   "cell_type": "code",
   "execution_count": 46,
   "id": "latter-cradle",
   "metadata": {},
   "outputs": [
    {
     "data": {
      "text/plain": [
       "23080"
      ]
     },
     "execution_count": 46,
     "metadata": {},
     "output_type": "execute_result"
    }
   ],
   "source": [
    "blackScore('r1bqkbn1/ppp1p1pp/8/3p4/8/8/2PPPPPP/RN1QKB1R')"
   ]
  },
  {
   "cell_type": "code",
   "execution_count": 47,
   "id": "strange-characterization",
   "metadata": {},
   "outputs": [],
   "source": [
    "def evaluate(fen_input, maximizing_color):\n",
    "    if maximizing_color == WHITE:\n",
    "        return whiteScore(fen_input) - blackScore(fen_input)\n",
    "    else:\n",
    "        return blackScore(fen_input) - whiteScore(fen_input)"
   ]
  },
  {
   "cell_type": "code",
   "execution_count": 58,
   "id": "bulgarian-casting",
   "metadata": {},
   "outputs": [],
   "source": [
    "def minimax(fen_input, maximizing_player, depth = 4):\n",
    "    board = chess.Board(fen_input, maximizing_color)\n",
    "    #if maximizing_color == 'w':\n",
    "        #maximizing_player = board.turn == chess.WHITE\n",
    "    #else:\n",
    "        #maximizing_player = board.turn == chess.BLACK\n",
    "    if depth == 0 or board.is_game_over():\n",
    "        return evaluate(fen_input)\n",
    "    if maximizing_player:\n",
    "        value = -float('inf')\n",
    "        for move in board.legal_moves:\n",
    "            board.push(move)\n",
    "            value = max(value, minimax(fen_input, False, depth - 1))\n",
    "            board.pop()\n",
    "        return value\n",
    "    else:\n",
    "        value = float('inf')\n",
    "        for move in board.legal_moves:\n",
    "            board.push(move)\n",
    "            value = min(value, minimax(fen_input, True, depth - 1))\n",
    "            board.pop()\n",
    "        return value"
   ]
  },
  {
   "cell_type": "code",
   "execution_count": 59,
   "id": "simple-danger",
   "metadata": {},
   "outputs": [
    {
     "ename": "TypeError",
     "evalue": "minimax() missing 1 required positional argument: 'maximizing_color'",
     "output_type": "error",
     "traceback": [
      "\u001b[0;31m---------------------------------------------------------------------------\u001b[0m",
      "\u001b[0;31mTypeError\u001b[0m                                 Traceback (most recent call last)",
      "\u001b[0;32m<ipython-input-59-26e89bd2b1ca>\u001b[0m in \u001b[0;36m<module>\u001b[0;34m\u001b[0m\n\u001b[0;32m----> 1\u001b[0;31m \u001b[0mminimax\u001b[0m\u001b[0;34m(\u001b[0m\u001b[0;34m'r1bqkbn1/ppp1p1pp/8/3p4/8/8/2PPPPPP/RN1QKB1R'\u001b[0m\u001b[0;34m)\u001b[0m\u001b[0;34m\u001b[0m\u001b[0;34m\u001b[0m\u001b[0m\n\u001b[0m",
      "\u001b[0;31mTypeError\u001b[0m: minimax() missing 1 required positional argument: 'maximizing_color'"
     ]
    }
   ],
   "source": [
    "minimax('r1bqkbn1/ppp1p1pp/8/3p4/8/8/2PPPPPP/RN1QKB1R w')"
   ]
  },
  {
   "cell_type": "code",
   "execution_count": null,
   "id": "physical-jersey",
   "metadata": {},
   "outputs": [],
   "source": [
    "def calculate_minimax(self, fen_input, maximizing_color):\n",
    "    # This shows up true for white & false for black\n",
    "    if maximizing_color == 'w':\n",
    "        maximizing_player = board.turn == chess.WHITE\n",
    "    else:\n",
    "        maximizing_player = board.turn == chess.BLACK\n",
    "\n",
    "    value = self.minimax(fen_input, maximizing_player)\n",
    "\n",
    "    return str(best_move)"
   ]
  },
  {
   "cell_type": "code",
   "execution_count": 70,
   "id": "direct-breakfast",
   "metadata": {},
   "outputs": [
    {
     "data": {
      "text/plain": [
       "False"
      ]
     },
     "execution_count": 70,
     "metadata": {},
     "output_type": "execute_result"
    }
   ],
   "source": [
    "board = chess.Board('r1bqkbn1/ppp1p1pp/8/3p4/8/8/2PPPPPP/RN1QKB1R b')\n",
    "board.turn\n"
   ]
  },
  {
   "cell_type": "code",
   "execution_count": 68,
   "id": "wound-stationery",
   "metadata": {},
   "outputs": [
    {
     "data": {
      "text/plain": [
       "'e4'"
      ]
     },
     "execution_count": 68,
     "metadata": {},
     "output_type": "execute_result"
    }
   ],
   "source": [
    "legal_moves = list(board.legal_moves)\n",
    "rand_move_num = np.random.randint(0,len(legal_moves))\n",
    "random_move = board.san(legal_moves[rand_move_num])\n",
    "random_move"
   ]
  },
  {
   "cell_type": "code",
   "execution_count": null,
   "id": "infinite-florist",
   "metadata": {},
   "outputs": [],
   "source": []
  },
  {
   "cell_type": "code",
   "execution_count": null,
   "id": "african-armor",
   "metadata": {},
   "outputs": [],
   "source": []
  },
  {
   "cell_type": "code",
   "execution_count": 84,
   "id": "hearing-rogers",
   "metadata": {},
   "outputs": [],
   "source": [
    "def evaluate_white(fen_input):\n",
    "    return whiteScore(fen_input) - blackScore(fen_input)"
   ]
  },
  {
   "cell_type": "code",
   "execution_count": 85,
   "id": "dangerous-concert",
   "metadata": {},
   "outputs": [],
   "source": [
    "def evaluate_black(fen_input):\n",
    "    return blackScore(fen_input) - whiteScore(fen_input)"
   ]
  },
  {
   "cell_type": "code",
   "execution_count": 88,
   "id": "surprising-sacramento",
   "metadata": {},
   "outputs": [],
   "source": [
    "def minimax_white(fen_input, depth = 4):\n",
    "    board = chess.Board(fen_input)\n",
    "    if depth == 0 or board.is_game_over():\n",
    "        return evaluate_white(fen_input)\n",
    "    if board.turn:\n",
    "        value = -float('inf')\n",
    "        for move in board.legal_moves:\n",
    "            board.push(move)\n",
    "            value = max(value, minimax(fen_input, False, depth - 1))\n",
    "            board.pop()\n",
    "        return value\n",
    "    else:\n",
    "        value = float('inf')\n",
    "        for move in board.legal_moves:\n",
    "            board.push(move)\n",
    "            value = min(value, minimax(fen_input, True, depth - 1))\n",
    "            board.pop()\n",
    "        return value"
   ]
  },
  {
   "cell_type": "code",
   "execution_count": 74,
   "id": "fabulous-multimedia",
   "metadata": {},
   "outputs": [],
   "source": [
    "def minimax_black(fen_input, depth = 4):\n",
    "    board = chess.Board(fen_input)\n",
    "    if depth == 0 or board.is_game_over():\n",
    "        return evaluate_white(fen_input)\n",
    "    if board.turn:\n",
    "        value = -float('inf')\n",
    "        for move in board.legal_moves:\n",
    "            board.push(move)\n",
    "            value = min(value, minimax(fen_input, False, depth - 1))\n",
    "            board.pop()\n",
    "        return value\n",
    "    else:\n",
    "        value = float('inf')\n",
    "        for move in board.legal_moves:\n",
    "            board.push(move)\n",
    "            value = max(value, minimax(fen_input, True, depth - 1))\n",
    "            board.pop()\n",
    "        return value"
   ]
  },
  {
   "cell_type": "code",
   "execution_count": 81,
   "id": "dependent-brief",
   "metadata": {},
   "outputs": [],
   "source": [
    "def get_minimax_move(fen_input):\n",
    "    board = chess.Board(fen_input)\n",
    "    if board.turn:\n",
    "        best_value = minimax_white(fen_input)\n",
    "    else:\n",
    "        best_value = minimax_black(fen_input)\n",
    "    return best_value"
   ]
  },
  {
   "cell_type": "code",
   "execution_count": 83,
   "id": "violent-environment",
   "metadata": {},
   "outputs": [
    {
     "ename": "TypeError",
     "evalue": "__init__() takes from 1 to 2 positional arguments but 3 were given",
     "output_type": "error",
     "traceback": [
      "\u001b[0;31m---------------------------------------------------------------------------\u001b[0m",
      "\u001b[0;31mTypeError\u001b[0m                                 Traceback (most recent call last)",
      "\u001b[0;32m<ipython-input-83-bec36d600ff3>\u001b[0m in \u001b[0;36m<module>\u001b[0;34m\u001b[0m\n\u001b[0;32m----> 1\u001b[0;31m \u001b[0mget_minimax_move\u001b[0m\u001b[0;34m(\u001b[0m\u001b[0;34m'r1bqkbn1/ppp1p1pp/8/3p4/8/8/2PPPPPP/RN1QKB1R'\u001b[0m\u001b[0;34m)\u001b[0m\u001b[0;34m\u001b[0m\u001b[0;34m\u001b[0m\u001b[0m\n\u001b[0m",
      "\u001b[0;32m<ipython-input-81-97af0aaac209>\u001b[0m in \u001b[0;36mget_minimax_move\u001b[0;34m(fen_input)\u001b[0m\n\u001b[1;32m      2\u001b[0m     \u001b[0mboard\u001b[0m \u001b[0;34m=\u001b[0m \u001b[0mchess\u001b[0m\u001b[0;34m.\u001b[0m\u001b[0mBoard\u001b[0m\u001b[0;34m(\u001b[0m\u001b[0mfen_input\u001b[0m\u001b[0;34m)\u001b[0m\u001b[0;34m\u001b[0m\u001b[0;34m\u001b[0m\u001b[0m\n\u001b[1;32m      3\u001b[0m     \u001b[0;32mif\u001b[0m \u001b[0mboard\u001b[0m\u001b[0;34m.\u001b[0m\u001b[0mturn\u001b[0m\u001b[0;34m:\u001b[0m\u001b[0;34m\u001b[0m\u001b[0;34m\u001b[0m\u001b[0m\n\u001b[0;32m----> 4\u001b[0;31m         \u001b[0mbest_value\u001b[0m \u001b[0;34m=\u001b[0m \u001b[0mminimax_white\u001b[0m\u001b[0;34m(\u001b[0m\u001b[0mfen_input\u001b[0m\u001b[0;34m)\u001b[0m\u001b[0;34m\u001b[0m\u001b[0;34m\u001b[0m\u001b[0m\n\u001b[0m\u001b[1;32m      5\u001b[0m     \u001b[0;32melse\u001b[0m\u001b[0;34m:\u001b[0m\u001b[0;34m\u001b[0m\u001b[0;34m\u001b[0m\u001b[0m\n\u001b[1;32m      6\u001b[0m         \u001b[0mbest_value\u001b[0m \u001b[0;34m=\u001b[0m \u001b[0mminimax_black\u001b[0m\u001b[0;34m(\u001b[0m\u001b[0mfen_input\u001b[0m\u001b[0;34m)\u001b[0m\u001b[0;34m\u001b[0m\u001b[0;34m\u001b[0m\u001b[0m\n",
      "\u001b[0;32m<ipython-input-73-10bd9c53572d>\u001b[0m in \u001b[0;36mminimax_white\u001b[0;34m(fen_input, depth)\u001b[0m\n\u001b[1;32m      7\u001b[0m         \u001b[0;32mfor\u001b[0m \u001b[0mmove\u001b[0m \u001b[0;32min\u001b[0m \u001b[0mboard\u001b[0m\u001b[0;34m.\u001b[0m\u001b[0mlegal_moves\u001b[0m\u001b[0;34m:\u001b[0m\u001b[0;34m\u001b[0m\u001b[0;34m\u001b[0m\u001b[0m\n\u001b[1;32m      8\u001b[0m             \u001b[0mboard\u001b[0m\u001b[0;34m.\u001b[0m\u001b[0mpush\u001b[0m\u001b[0;34m(\u001b[0m\u001b[0mmove\u001b[0m\u001b[0;34m)\u001b[0m\u001b[0;34m\u001b[0m\u001b[0;34m\u001b[0m\u001b[0m\n\u001b[0;32m----> 9\u001b[0;31m             \u001b[0mvalue\u001b[0m \u001b[0;34m=\u001b[0m \u001b[0mmax\u001b[0m\u001b[0;34m(\u001b[0m\u001b[0mvalue\u001b[0m\u001b[0;34m,\u001b[0m \u001b[0mminimax\u001b[0m\u001b[0;34m(\u001b[0m\u001b[0mfen_input\u001b[0m\u001b[0;34m,\u001b[0m \u001b[0;32mFalse\u001b[0m\u001b[0;34m,\u001b[0m \u001b[0mdepth\u001b[0m \u001b[0;34m-\u001b[0m \u001b[0;36m1\u001b[0m\u001b[0;34m)\u001b[0m\u001b[0;34m)\u001b[0m\u001b[0;34m\u001b[0m\u001b[0;34m\u001b[0m\u001b[0m\n\u001b[0m\u001b[1;32m     10\u001b[0m             \u001b[0mboard\u001b[0m\u001b[0;34m.\u001b[0m\u001b[0mpop\u001b[0m\u001b[0;34m(\u001b[0m\u001b[0;34m)\u001b[0m\u001b[0;34m\u001b[0m\u001b[0;34m\u001b[0m\u001b[0m\n\u001b[1;32m     11\u001b[0m         \u001b[0;32mreturn\u001b[0m \u001b[0mvalue\u001b[0m\u001b[0;34m\u001b[0m\u001b[0;34m\u001b[0m\u001b[0m\n",
      "\u001b[0;32m<ipython-input-58-6e52de50e011>\u001b[0m in \u001b[0;36mminimax\u001b[0;34m(fen_input, maximizing_color, depth)\u001b[0m\n\u001b[1;32m      1\u001b[0m \u001b[0;32mdef\u001b[0m \u001b[0mminimax\u001b[0m\u001b[0;34m(\u001b[0m\u001b[0mfen_input\u001b[0m\u001b[0;34m,\u001b[0m \u001b[0mmaximizing_color\u001b[0m\u001b[0;34m,\u001b[0m \u001b[0mdepth\u001b[0m \u001b[0;34m=\u001b[0m \u001b[0;36m4\u001b[0m\u001b[0;34m)\u001b[0m\u001b[0;34m:\u001b[0m\u001b[0;34m\u001b[0m\u001b[0;34m\u001b[0m\u001b[0m\n\u001b[0;32m----> 2\u001b[0;31m     \u001b[0mboard\u001b[0m \u001b[0;34m=\u001b[0m \u001b[0mchess\u001b[0m\u001b[0;34m.\u001b[0m\u001b[0mBoard\u001b[0m\u001b[0;34m(\u001b[0m\u001b[0mfen_input\u001b[0m\u001b[0;34m,\u001b[0m \u001b[0mmaximizing_color\u001b[0m\u001b[0;34m)\u001b[0m\u001b[0;34m\u001b[0m\u001b[0;34m\u001b[0m\u001b[0m\n\u001b[0m\u001b[1;32m      3\u001b[0m     \u001b[0;32mif\u001b[0m \u001b[0mmaximizing_color\u001b[0m \u001b[0;34m==\u001b[0m \u001b[0;34m'w'\u001b[0m\u001b[0;34m:\u001b[0m\u001b[0;34m\u001b[0m\u001b[0;34m\u001b[0m\u001b[0m\n\u001b[1;32m      4\u001b[0m         \u001b[0mmaximizing_player\u001b[0m \u001b[0;34m=\u001b[0m \u001b[0mboard\u001b[0m\u001b[0;34m.\u001b[0m\u001b[0mturn\u001b[0m \u001b[0;34m==\u001b[0m \u001b[0mchess\u001b[0m\u001b[0;34m.\u001b[0m\u001b[0mWHITE\u001b[0m\u001b[0;34m\u001b[0m\u001b[0;34m\u001b[0m\u001b[0m\n\u001b[1;32m      5\u001b[0m     \u001b[0;32melse\u001b[0m\u001b[0;34m:\u001b[0m\u001b[0;34m\u001b[0m\u001b[0;34m\u001b[0m\u001b[0m\n",
      "\u001b[0;31mTypeError\u001b[0m: __init__() takes from 1 to 2 positional arguments but 3 were given"
     ]
    }
   ],
   "source": [
    "get_minimax_move('r1bqkbn1/ppp1p1pp/8/3p4/8/8/2PPPPPP/RN1QKB1R b')"
   ]
  },
  {
   "cell_type": "code",
   "execution_count": 94,
   "id": "protected-breathing",
   "metadata": {},
   "outputs": [
    {
     "ename": "TypeError",
     "evalue": "__init__() takes from 1 to 2 positional arguments but 3 were given",
     "output_type": "error",
     "traceback": [
      "\u001b[0;31m---------------------------------------------------------------------------\u001b[0m",
      "\u001b[0;31mTypeError\u001b[0m                                 Traceback (most recent call last)",
      "\u001b[0;32m<ipython-input-94-149fb441b9ea>\u001b[0m in \u001b[0;36m<module>\u001b[0;34m\u001b[0m\n\u001b[0;32m----> 1\u001b[0;31m \u001b[0mminimax_white\u001b[0m\u001b[0;34m(\u001b[0m\u001b[0;34m'r1bqkbn1/ppp1p1pp/8/3p4/8/8/2PPPPPP/RN1QKB1R'\u001b[0m\u001b[0;34m,\u001b[0m \u001b[0;36m4\u001b[0m\u001b[0;34m)\u001b[0m\u001b[0;34m\u001b[0m\u001b[0;34m\u001b[0m\u001b[0m\n\u001b[0m",
      "\u001b[0;32m<ipython-input-88-10bd9c53572d>\u001b[0m in \u001b[0;36mminimax_white\u001b[0;34m(fen_input, depth)\u001b[0m\n\u001b[1;32m      7\u001b[0m         \u001b[0;32mfor\u001b[0m \u001b[0mmove\u001b[0m \u001b[0;32min\u001b[0m \u001b[0mboard\u001b[0m\u001b[0;34m.\u001b[0m\u001b[0mlegal_moves\u001b[0m\u001b[0;34m:\u001b[0m\u001b[0;34m\u001b[0m\u001b[0;34m\u001b[0m\u001b[0m\n\u001b[1;32m      8\u001b[0m             \u001b[0mboard\u001b[0m\u001b[0;34m.\u001b[0m\u001b[0mpush\u001b[0m\u001b[0;34m(\u001b[0m\u001b[0mmove\u001b[0m\u001b[0;34m)\u001b[0m\u001b[0;34m\u001b[0m\u001b[0;34m\u001b[0m\u001b[0m\n\u001b[0;32m----> 9\u001b[0;31m             \u001b[0mvalue\u001b[0m \u001b[0;34m=\u001b[0m \u001b[0mmax\u001b[0m\u001b[0;34m(\u001b[0m\u001b[0mvalue\u001b[0m\u001b[0;34m,\u001b[0m \u001b[0mminimax\u001b[0m\u001b[0;34m(\u001b[0m\u001b[0mfen_input\u001b[0m\u001b[0;34m,\u001b[0m \u001b[0;32mFalse\u001b[0m\u001b[0;34m,\u001b[0m \u001b[0mdepth\u001b[0m \u001b[0;34m-\u001b[0m \u001b[0;36m1\u001b[0m\u001b[0;34m)\u001b[0m\u001b[0;34m)\u001b[0m\u001b[0;34m\u001b[0m\u001b[0;34m\u001b[0m\u001b[0m\n\u001b[0m\u001b[1;32m     10\u001b[0m             \u001b[0mboard\u001b[0m\u001b[0;34m.\u001b[0m\u001b[0mpop\u001b[0m\u001b[0;34m(\u001b[0m\u001b[0;34m)\u001b[0m\u001b[0;34m\u001b[0m\u001b[0;34m\u001b[0m\u001b[0m\n\u001b[1;32m     11\u001b[0m         \u001b[0;32mreturn\u001b[0m \u001b[0mvalue\u001b[0m\u001b[0;34m\u001b[0m\u001b[0;34m\u001b[0m\u001b[0m\n",
      "\u001b[0;32m<ipython-input-58-6e52de50e011>\u001b[0m in \u001b[0;36mminimax\u001b[0;34m(fen_input, maximizing_color, depth)\u001b[0m\n\u001b[1;32m      1\u001b[0m \u001b[0;32mdef\u001b[0m \u001b[0mminimax\u001b[0m\u001b[0;34m(\u001b[0m\u001b[0mfen_input\u001b[0m\u001b[0;34m,\u001b[0m \u001b[0mmaximizing_color\u001b[0m\u001b[0;34m,\u001b[0m \u001b[0mdepth\u001b[0m \u001b[0;34m=\u001b[0m \u001b[0;36m4\u001b[0m\u001b[0;34m)\u001b[0m\u001b[0;34m:\u001b[0m\u001b[0;34m\u001b[0m\u001b[0;34m\u001b[0m\u001b[0m\n\u001b[0;32m----> 2\u001b[0;31m     \u001b[0mboard\u001b[0m \u001b[0;34m=\u001b[0m \u001b[0mchess\u001b[0m\u001b[0;34m.\u001b[0m\u001b[0mBoard\u001b[0m\u001b[0;34m(\u001b[0m\u001b[0mfen_input\u001b[0m\u001b[0;34m,\u001b[0m \u001b[0mmaximizing_color\u001b[0m\u001b[0;34m)\u001b[0m\u001b[0;34m\u001b[0m\u001b[0;34m\u001b[0m\u001b[0m\n\u001b[0m\u001b[1;32m      3\u001b[0m     \u001b[0;32mif\u001b[0m \u001b[0mmaximizing_color\u001b[0m \u001b[0;34m==\u001b[0m \u001b[0;34m'w'\u001b[0m\u001b[0;34m:\u001b[0m\u001b[0;34m\u001b[0m\u001b[0;34m\u001b[0m\u001b[0m\n\u001b[1;32m      4\u001b[0m         \u001b[0mmaximizing_player\u001b[0m \u001b[0;34m=\u001b[0m \u001b[0mboard\u001b[0m\u001b[0;34m.\u001b[0m\u001b[0mturn\u001b[0m \u001b[0;34m==\u001b[0m \u001b[0mchess\u001b[0m\u001b[0;34m.\u001b[0m\u001b[0mWHITE\u001b[0m\u001b[0;34m\u001b[0m\u001b[0;34m\u001b[0m\u001b[0m\n\u001b[1;32m      5\u001b[0m     \u001b[0;32melse\u001b[0m\u001b[0;34m:\u001b[0m\u001b[0;34m\u001b[0m\u001b[0;34m\u001b[0m\u001b[0m\n",
      "\u001b[0;31mTypeError\u001b[0m: __init__() takes from 1 to 2 positional arguments but 3 were given"
     ]
    }
   ],
   "source": [
    "minimax_white('r1bqkbn1/ppp1p1pp/8/3p4/8/8/2PPPPPP/RN1QKB1R')"
   ]
  },
  {
   "cell_type": "code",
   "execution_count": 93,
   "id": "fuzzy-weekend",
   "metadata": {},
   "outputs": [
    {
     "data": {
      "text/plain": [
       "70"
      ]
     },
     "execution_count": 93,
     "metadata": {},
     "output_type": "execute_result"
    }
   ],
   "source": [
    "evaluate_white('r1bqkbn1/ppp1p1pp/8/3p4/8/8/2PPPPPP/RN1QKB1R')"
   ]
  },
  {
   "cell_type": "code",
   "execution_count": 101,
   "id": "supreme-abuse",
   "metadata": {},
   "outputs": [
    {
     "name": "stdout",
     "output_type": "stream",
     "text": [
      "w\n"
     ]
    }
   ],
   "source": [
    "board = chess.Board('rnbqkbnr/ppppp1pp/5p2/8/8/1P5P/P1PPPPP1/RNBQKBNR w')\n",
    "if board.turn == 0:\n",
    "    print('b')\n",
    "else:\n",
    "    print('w')"
   ]
  },
  {
   "cell_type": "code",
   "execution_count": null,
   "id": "useful-driver",
   "metadata": {},
   "outputs": [],
   "source": []
  }
 ],
 "metadata": {
  "kernelspec": {
   "display_name": "Python 3",
   "language": "python",
   "name": "python3"
  },
  "language_info": {
   "codemirror_mode": {
    "name": "ipython",
    "version": 3
   },
   "file_extension": ".py",
   "mimetype": "text/x-python",
   "name": "python",
   "nbconvert_exporter": "python",
   "pygments_lexer": "ipython3",
   "version": "3.8.8"
  }
 },
 "nbformat": 4,
 "nbformat_minor": 5
}
