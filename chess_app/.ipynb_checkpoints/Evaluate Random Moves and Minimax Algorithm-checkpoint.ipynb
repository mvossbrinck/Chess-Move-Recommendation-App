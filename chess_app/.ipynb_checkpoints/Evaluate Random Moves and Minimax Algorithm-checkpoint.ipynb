{
 "cells": [
  {
   "cell_type": "code",
   "execution_count": 11,
   "id": "stock-poetry",
   "metadata": {},
   "outputs": [],
   "source": [
    "import pickle\n",
    "import chess\n",
    "import pandas as pd\n",
    "import numpy as np \n",
    "from chess_minimax_test import get_minimax_move\n",
    "from chess_random2 import get_random_move"
   ]
  },
  {
   "cell_type": "code",
   "execution_count": 12,
   "id": "characteristic-radiation",
   "metadata": {},
   "outputs": [
    {
     "name": "stdout",
     "output_type": "stream",
     "text": [
      "<class 'pandas.core.frame.DataFrame'>\n",
      "Index: 106 entries, Game47674 to Game993220\n",
      "Data columns (total 7 columns):\n",
      " #   Column         Non-Null Count  Dtype \n",
      "---  ------         --------------  ----- \n",
      " 0   BlackElo       106 non-null    object\n",
      " 1   WhiteElo       106 non-null    object\n",
      " 2   moves          106 non-null    object\n",
      " 3   move_num       106 non-null    object\n",
      " 4   winner         106 non-null    object\n",
      " 5   Black_Elo_Num  106 non-null    int64 \n",
      " 6   White_Elo_Num  106 non-null    int64 \n",
      "dtypes: int64(2), object(5)\n",
      "memory usage: 6.6+ KB\n"
     ]
    }
   ],
   "source": [
    "with open('2014_08_over_2400_chess_data.pickle','rb') as read_file:\n",
    "    chess_df = pickle.load(read_file)\n",
    "\n",
    "chess_df.info()"
   ]
  },
  {
   "cell_type": "code",
   "execution_count": 13,
   "id": "nasty-anthony",
   "metadata": {},
   "outputs": [],
   "source": [
    "chess_df\n",
    "moves = chess_df['moves']"
   ]
  },
  {
   "cell_type": "code",
   "execution_count": 14,
   "id": "quick-poultry",
   "metadata": {},
   "outputs": [],
   "source": [
    "char_list = []\n",
    "for i in range(1,500):\n",
    "    char_list.append(str(i) + '.')\n",
    "\n",
    "move_list = []\n",
    "\n",
    "for game in moves:\n",
    "    index = list(moves).index(game)\n",
    "    allmoves = game.split()\n",
    "    all_moves = [elem for elem in allmoves if elem not in char_list]\n",
    "    board = chess.Board()\n",
    "    for i in range(len(all_moves)):\n",
    "        board.push_san(all_moves[i])\n",
    "        fen = board.fen()\n",
    "        row = [index, i, fen, all_moves[i]]\n",
    "        move_list.append(row)"
   ]
  },
  {
   "cell_type": "code",
   "execution_count": 15,
   "id": "alert-timber",
   "metadata": {},
   "outputs": [
    {
     "name": "stderr",
     "output_type": "stream",
     "text": [
      "<ipython-input-15-508f604a7da8>:3: FutureWarning: Indexing with multiple keys (implicitly converted to a tuple of keys) will be deprecated, use a list instead.\n",
      "  ddf = move_df.groupby(['Game_Num'])['Move_Num', 'FEN', 'Move', 'Next_Move'].apply(lambda x : x[:-1])\n"
     ]
    }
   ],
   "source": [
    "move_df = pd.DataFrame(move_list, columns = ['Game_Num', 'Move_Num', 'FEN', 'Move'])\n",
    "move_df['Next_Move'] = move_df.Move.shift(-1)\n",
    "ddf = move_df.groupby(['Game_Num'])['Move_Num', 'FEN', 'Move', 'Next_Move'].apply(lambda x : x[:-1])"
   ]
  },
  {
   "cell_type": "code",
   "execution_count": 21,
   "id": "governing-protocol",
   "metadata": {},
   "outputs": [
    {
     "data": {
      "text/html": [
       "<div>\n",
       "<style scoped>\n",
       "    .dataframe tbody tr th:only-of-type {\n",
       "        vertical-align: middle;\n",
       "    }\n",
       "\n",
       "    .dataframe tbody tr th {\n",
       "        vertical-align: top;\n",
       "    }\n",
       "\n",
       "    .dataframe thead th {\n",
       "        text-align: right;\n",
       "    }\n",
       "</style>\n",
       "<table border=\"1\" class=\"dataframe\">\n",
       "  <thead>\n",
       "    <tr style=\"text-align: right;\">\n",
       "      <th></th>\n",
       "      <th></th>\n",
       "      <th>Move_Num</th>\n",
       "      <th>FEN</th>\n",
       "      <th>Move</th>\n",
       "      <th>Next_Move</th>\n",
       "      <th>Rand_Move</th>\n",
       "      <th>Minimax_Move</th>\n",
       "      <th>Random_Compare</th>\n",
       "      <th>Minimax_Compare</th>\n",
       "    </tr>\n",
       "    <tr>\n",
       "      <th>Game_Num</th>\n",
       "      <th></th>\n",
       "      <th></th>\n",
       "      <th></th>\n",
       "      <th></th>\n",
       "      <th></th>\n",
       "      <th></th>\n",
       "      <th></th>\n",
       "      <th></th>\n",
       "      <th></th>\n",
       "    </tr>\n",
       "  </thead>\n",
       "  <tbody>\n",
       "    <tr>\n",
       "      <th rowspan=\"5\" valign=\"top\">0</th>\n",
       "      <th>0</th>\n",
       "      <td>0</td>\n",
       "      <td>rnbqkbnr/pppppppp/8/8/4P3/8/PPPP1PPP/RNBQKBNR ...</td>\n",
       "      <td>e4</td>\n",
       "      <td>e6</td>\n",
       "      <td>c6</td>\n",
       "      <td>Nh6</td>\n",
       "      <td>False</td>\n",
       "      <td>False</td>\n",
       "    </tr>\n",
       "    <tr>\n",
       "      <th>1</th>\n",
       "      <td>1</td>\n",
       "      <td>rnbqkbnr/pppp1ppp/4p3/8/4P3/8/PPPP1PPP/RNBQKBN...</td>\n",
       "      <td>e6</td>\n",
       "      <td>Nc3</td>\n",
       "      <td>d4</td>\n",
       "      <td>Nh3</td>\n",
       "      <td>False</td>\n",
       "      <td>False</td>\n",
       "    </tr>\n",
       "    <tr>\n",
       "      <th>2</th>\n",
       "      <td>2</td>\n",
       "      <td>rnbqkbnr/pppp1ppp/4p3/8/4P3/2N5/PPPP1PPP/R1BQK...</td>\n",
       "      <td>Nc3</td>\n",
       "      <td>Nf6</td>\n",
       "      <td>Nf6</td>\n",
       "      <td>Ne7</td>\n",
       "      <td>False</td>\n",
       "      <td>False</td>\n",
       "    </tr>\n",
       "    <tr>\n",
       "      <th>3</th>\n",
       "      <td>3</td>\n",
       "      <td>rnbqkb1r/pppp1ppp/4pn2/8/4P3/2N5/PPPP1PPP/R1BQ...</td>\n",
       "      <td>Nf6</td>\n",
       "      <td>e5</td>\n",
       "      <td>Bb5</td>\n",
       "      <td>Nd5</td>\n",
       "      <td>False</td>\n",
       "      <td>False</td>\n",
       "    </tr>\n",
       "    <tr>\n",
       "      <th>4</th>\n",
       "      <td>4</td>\n",
       "      <td>rnbqkb1r/pppp1ppp/4pn2/4P3/8/2N5/PPPP1PPP/R1BQ...</td>\n",
       "      <td>e5</td>\n",
       "      <td>Nd5</td>\n",
       "      <td>Ne4</td>\n",
       "      <td>Rg8</td>\n",
       "      <td>False</td>\n",
       "      <td>False</td>\n",
       "    </tr>\n",
       "  </tbody>\n",
       "</table>\n",
       "</div>"
      ],
      "text/plain": [
       "            Move_Num                                                FEN Move  \\\n",
       "Game_Num                                                                       \n",
       "0        0         0  rnbqkbnr/pppppppp/8/8/4P3/8/PPPP1PPP/RNBQKBNR ...   e4   \n",
       "         1         1  rnbqkbnr/pppp1ppp/4p3/8/4P3/8/PPPP1PPP/RNBQKBN...   e6   \n",
       "         2         2  rnbqkbnr/pppp1ppp/4p3/8/4P3/2N5/PPPP1PPP/R1BQK...  Nc3   \n",
       "         3         3  rnbqkb1r/pppp1ppp/4pn2/8/4P3/2N5/PPPP1PPP/R1BQ...  Nf6   \n",
       "         4         4  rnbqkb1r/pppp1ppp/4pn2/4P3/8/2N5/PPPP1PPP/R1BQ...   e5   \n",
       "\n",
       "           Next_Move Rand_Move Minimax_Move  Random_Compare  Minimax_Compare  \n",
       "Game_Num                                                                      \n",
       "0        0        e6        c6          Nh6           False            False  \n",
       "         1       Nc3        d4          Nh3           False            False  \n",
       "         2       Nf6       Nf6          Ne7           False            False  \n",
       "         3        e5       Bb5          Nd5           False            False  \n",
       "         4       Nd5       Ne4          Rg8           False            False  "
      ]
     },
     "execution_count": 21,
     "metadata": {},
     "output_type": "execute_result"
    }
   ],
   "source": [
    "ddf['Rand_Move'] =ddf['FEN'].apply(get_random_move)\n",
    "ddf['Minimax_Move'] =ddf['FEN'].apply(get_minimax_move)\n",
    "\n",
    "ddf.head()"
   ]
  },
  {
   "cell_type": "code",
   "execution_count": 22,
   "id": "middle-customs",
   "metadata": {},
   "outputs": [],
   "source": [
    "ddf['Random_Compare'] = np.where(ddf['Next_Move'] == ddf['Rand_Move'], True, False)\n",
    "ddf['Minimax_Compare'] = np.where(ddf['Next_Move'] == ddf['Minimax_Move'], True, False)"
   ]
  },
  {
   "cell_type": "code",
   "execution_count": 23,
   "id": "powerful-conviction",
   "metadata": {},
   "outputs": [
    {
     "data": {
      "text/plain": [
       "False    8451\n",
       "True      618\n",
       "Name: Random_Compare, dtype: int64"
      ]
     },
     "execution_count": 23,
     "metadata": {},
     "output_type": "execute_result"
    }
   ],
   "source": [
    "ddf['Random_Compare'].value_counts()"
   ]
  },
  {
   "cell_type": "code",
   "execution_count": 19,
   "id": "accessory-noise",
   "metadata": {},
   "outputs": [
    {
     "data": {
      "text/plain": [
       "False    8521\n",
       "True      548\n",
       "Name: Minimax_Compare, dtype: int64"
      ]
     },
     "execution_count": 19,
     "metadata": {},
     "output_type": "execute_result"
    }
   ],
   "source": [
    "ddf['Minimax_Compare'].value_counts()"
   ]
  },
  {
   "cell_type": "code",
   "execution_count": null,
   "id": "variable-vegetable",
   "metadata": {},
   "outputs": [],
   "source": [
    "ddf['Total_Moves'] = ddf.groupby(['Game_Num'])['Move_Num'].transform(max) + 1\n",
    "ddf['Percent_Through_Game'] = (ddf['Move_Num']+1)/ddf['Total_Moves']\n",
    "ddf['Stage_Of_Game'] = np.where(ddf['Percent_Through_Game'] < .3334, 'Beginning',\n",
    "                       np.where(ddf['Percent_Through_Game'] < .6667, 'Middle',         \n",
    "                               'End'))\n",
    "ddf.head()"
   ]
  },
  {
   "cell_type": "code",
   "execution_count": null,
   "id": "liked-overall",
   "metadata": {},
   "outputs": [],
   "source": [
    "pd.crosstab(ddf['Minimax_Compare'], ddf['Stage_Of_Game'])"
   ]
  },
  {
   "cell_type": "code",
   "execution_count": null,
   "id": "civil-differential",
   "metadata": {},
   "outputs": [],
   "source": [
    "pd.crosstab(ddf['Random_Compare'], ddf['Stage_Of_Game'])"
   ]
  },
  {
   "cell_type": "code",
   "execution_count": null,
   "id": "aging-happening",
   "metadata": {},
   "outputs": [],
   "source": []
  },
  {
   "cell_type": "code",
   "execution_count": null,
   "id": "sought-difference",
   "metadata": {},
   "outputs": [],
   "source": [
    "#ddf['NeuralNet_Compare'].value_counts()"
   ]
  },
  {
   "cell_type": "code",
   "execution_count": null,
   "id": "architectural-modeling",
   "metadata": {},
   "outputs": [],
   "source": [
    "ddf['Move_Num'].describe()"
   ]
  },
  {
   "cell_type": "code",
   "execution_count": null,
   "id": "passing-friday",
   "metadata": {},
   "outputs": [],
   "source": [
    "import matplotlib.pyplot as plt\n",
    "\n",
    "plt.hist(move_df['Move_Num'])"
   ]
  },
  {
   "cell_type": "code",
   "execution_count": null,
   "id": "visible-leadership",
   "metadata": {},
   "outputs": [],
   "source": [
    "test = chess_df[chess_df['move_num'] != 0]"
   ]
  },
  {
   "cell_type": "code",
   "execution_count": null,
   "id": "unusual-syndicate",
   "metadata": {},
   "outputs": [],
   "source": [
    "test.info()"
   ]
  },
  {
   "cell_type": "code",
   "execution_count": null,
   "id": "needed-danger",
   "metadata": {},
   "outputs": [],
   "source": [
    "chess_df['Moves'] = chess_df['move_num'].astype(int)"
   ]
  },
  {
   "cell_type": "code",
   "execution_count": null,
   "id": "senior-brook",
   "metadata": {},
   "outputs": [],
   "source": [
    "chess_df['Moves'].describe()"
   ]
  }
 ],
 "metadata": {
  "kernelspec": {
   "display_name": "tfflask",
   "language": "python",
   "name": "tfflask"
  },
  "language_info": {
   "codemirror_mode": {
    "name": "ipython",
    "version": 3
   },
   "file_extension": ".py",
   "mimetype": "text/x-python",
   "name": "python",
   "nbconvert_exporter": "python",
   "pygments_lexer": "ipython3",
   "version": "3.8.8"
  }
 },
 "nbformat": 4,
 "nbformat_minor": 5
}
