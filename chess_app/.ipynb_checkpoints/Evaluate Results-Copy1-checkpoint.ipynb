{
 "cells": [
  {
   "cell_type": "code",
   "execution_count": 1,
   "id": "metropolitan-sodium",
   "metadata": {},
   "outputs": [],
   "source": [
    "import pickle\n",
    "import chess\n",
    "import pandas as pd\n",
    "import numpy as np \n",
    "from chess_minimax import get_minimax_move\n",
    "from chess_random import get_random_move"
   ]
  },
  {
   "cell_type": "code",
   "execution_count": null,
   "id": "lesser-market",
   "metadata": {},
   "outputs": [],
   "source": [
    "with open('2014_08_over_2400_chess_data.pickle','rb') as read_file:\n",
    "    chess_df = pickle.load(read_file)\n",
    "\n",
    "chess_df.info()"
   ]
  },
  {
   "cell_type": "code",
   "execution_count": null,
   "id": "metallic-baghdad",
   "metadata": {},
   "outputs": [],
   "source": [
    "chess_df\n",
    "moves = chess_df['moves']"
   ]
  },
  {
   "cell_type": "code",
   "execution_count": null,
   "id": "voluntary-prediction",
   "metadata": {},
   "outputs": [],
   "source": [
    "char_list = []\n",
    "for i in range(1,500):\n",
    "    char_list.append(str(i) + '.')\n",
    "\n",
    "move_list = []\n",
    "\n",
    "for game in moves:\n",
    "    index = list(moves).index(game)\n",
    "    allmoves = game.split()\n",
    "    all_moves = [elem for elem in allmoves if elem not in char_list]\n",
    "    board = chess.Board()\n",
    "    for i in range(len(all_moves)):\n",
    "        board.push_san(all_moves[i])\n",
    "        fen = board.fen()\n",
    "        row = [index, i, fen, all_moves[i]]\n",
    "        move_list.append(row)"
   ]
  },
  {
   "cell_type": "code",
   "execution_count": null,
   "id": "offensive-armenia",
   "metadata": {},
   "outputs": [],
   "source": [
    "move_df = pd.DataFrame(move_list, columns = ['Game_Num', 'Move_Num', 'FEN', 'Move'])\n",
    "move_df['Next_Move'] = move_df.Move.shift(-1)\n",
    "ddf = move_df.groupby(['Game_Num'])['Move_Num', 'FEN', 'Move', 'Next_Move'].apply(lambda x : x[:-1])"
   ]
  },
  {
   "cell_type": "code",
   "execution_count": null,
   "id": "revised-agent",
   "metadata": {},
   "outputs": [],
   "source": [
    "#ddf['Rand_Move'] =ddf['FEN'].apply(get_random_move)\n",
    "#ddf['Minimax_Move'] =ddf['FEN'].apply(get_minimax_move)\n",
    "\n",
    "for index, row in ddf.iterrows():\n",
    "    m0 = get_random_move(row['FEN'])\n",
    "    ddf.loc[index,'Rand_Move'] = m0\n",
    "    m1 = get_minimax_move(row['FEN'])\n",
    "    ddf.loc[index,'Minimax_Move'] = m1\n",
    "    print(index)\n",
    "    \n",
    "ddf.head()"
   ]
  },
  {
   "cell_type": "code",
   "execution_count": null,
   "id": "innovative-arabic",
   "metadata": {},
   "outputs": [],
   "source": [
    "ddf['Random_Compare'] = np.where(ddf['Next_Move'] == ddf['Rand_Move'], True, False)\n",
    "ddf['Minimax_Compare'] = np.where(ddf['Next_Move'] == ddf['Minimax_Move'], True, False)"
   ]
  },
  {
   "cell_type": "code",
   "execution_count": null,
   "id": "colonial-hartford",
   "metadata": {},
   "outputs": [],
   "source": [
    "ddf['Random_Compare'].value_counts()"
   ]
  },
  {
   "cell_type": "code",
   "execution_count": null,
   "id": "global-technician",
   "metadata": {},
   "outputs": [],
   "source": [
    "ddf['Minimax_Compare'].value_counts()"
   ]
  },
  {
   "cell_type": "code",
   "execution_count": null,
   "id": "sudden-officer",
   "metadata": {},
   "outputs": [],
   "source": [
    "ddf['Total_Moves'] = ddf.groupby(['Game_Num'])['Move_Num'].transform(max) + 1\n",
    "ddf['Percent_Through_Game'] = (ddf['Move_Num']+1)/ddf['Total_Moves']\n",
    "ddf['Stage_Of_Game'] = np.where(ddf['Percent_Through_Game'] < .3334, 'Beginning',\n",
    "                       np.where(ddf['Percent_Through_Game'] < .6667, 'Middle',         \n",
    "                               'End'))\n",
    "ddf.head()"
   ]
  },
  {
   "cell_type": "code",
   "execution_count": null,
   "id": "imposed-artwork",
   "metadata": {},
   "outputs": [],
   "source": [
    "pd.crosstab(ddf['Minimax_Compare'], ddf['Stage_Of_Game'])"
   ]
  },
  {
   "cell_type": "code",
   "execution_count": null,
   "id": "approved-silver",
   "metadata": {},
   "outputs": [],
   "source": [
    "pd.crosstab(ddf['Random_Compare'], ddf['Stage_Of_Game'])"
   ]
  },
  {
   "cell_type": "code",
   "execution_count": null,
   "id": "manual-wilderness",
   "metadata": {},
   "outputs": [],
   "source": []
  },
  {
   "cell_type": "code",
   "execution_count": null,
   "id": "passive-redhead",
   "metadata": {},
   "outputs": [],
   "source": [
    "#ddf['NeuralNet_Compare'].value_counts()"
   ]
  },
  {
   "cell_type": "code",
   "execution_count": null,
   "id": "declared-convergence",
   "metadata": {},
   "outputs": [],
   "source": [
    "ddf['Move_Num'].describe()"
   ]
  },
  {
   "cell_type": "code",
   "execution_count": null,
   "id": "enclosed-giant",
   "metadata": {},
   "outputs": [],
   "source": [
    "import matplotlib.pyplot as plt\n",
    "\n",
    "plt.hist(move_df['Move_Num'])"
   ]
  },
  {
   "cell_type": "code",
   "execution_count": null,
   "id": "presidential-constitutional",
   "metadata": {},
   "outputs": [],
   "source": [
    "test = chess_df[chess_df['move_num'] != 0]"
   ]
  },
  {
   "cell_type": "code",
   "execution_count": null,
   "id": "minimal-adventure",
   "metadata": {},
   "outputs": [],
   "source": [
    "test.info()"
   ]
  },
  {
   "cell_type": "code",
   "execution_count": null,
   "id": "smaller-popularity",
   "metadata": {},
   "outputs": [],
   "source": [
    "chess_df['Moves'] = chess_df['move_num'].astype(int)"
   ]
  },
  {
   "cell_type": "code",
   "execution_count": null,
   "id": "better-council",
   "metadata": {},
   "outputs": [],
   "source": [
    "chess_df['Moves'].describe()"
   ]
  }
 ],
 "metadata": {
  "kernelspec": {
   "display_name": "tfflask",
   "language": "python",
   "name": "tfflask"
  },
  "language_info": {
   "codemirror_mode": {
    "name": "ipython",
    "version": 3
   },
   "file_extension": ".py",
   "mimetype": "text/x-python",
   "name": "python",
   "nbconvert_exporter": "python",
   "pygments_lexer": "ipython3",
   "version": "3.8.8"
  }
 },
 "nbformat": 4,
 "nbformat_minor": 5
}
