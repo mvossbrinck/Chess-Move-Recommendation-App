{
 "cells": [
  {
   "cell_type": "markdown",
   "metadata": {
    "id": "xvof_vfrRRXl"
   },
   "source": [
    "## Import Packages and Models"
   ]
  },
  {
   "cell_type": "code",
   "execution_count": 2,
   "metadata": {
    "id": "F8PdHQIPRU-F"
   },
   "outputs": [],
   "source": [
    "import pickle\n",
    "import numpy as np\n",
    "import pandas as pd\n",
    "import chess\n",
    "import matplotlib.pyplot as plt\n",
    "%matplotlib inline\n",
    "from keras.models import load_model"
   ]
  },
  {
   "cell_type": "code",
   "execution_count": 3,
   "metadata": {
    "id": "03WpF_U3K4-j"
   },
   "outputs": [],
   "source": [
    "# Labeled as models 5-9 because the models were originally run on a smaller data set \n",
    "# and those were labeled as models 0-4\n",
    "model_5 = load_model('chess_app/models/chessb.02-0.26.hdf5')\n",
    "model_6 = load_model('chess_app/models/chessb2.10-0.27.hdf5')\n",
    "model_7 = load_model('chess_app/models/chessb3.20-0.29.hdf5')\n",
    "model_8 = load_model('chess_app/models/chessb4.14-0.27.hdf5')\n",
    "model_9 = load_model('chess_app/models/chessb5.14-0.28.hdf5')"
   ]
  },
  {
   "cell_type": "markdown",
   "metadata": {},
   "source": [
    "<br>"
   ]
  },
  {
   "cell_type": "markdown",
   "metadata": {
    "id": "tB7AR8jORpLL"
   },
   "source": [
    "## Import Expert Data Source"
   ]
  },
  {
   "cell_type": "code",
   "execution_count": 4,
   "metadata": {
    "colab": {
     "base_uri": "https://localhost:8080/"
    },
    "id": "c81lXamBPGX0",
    "outputId": "9befc3ee-d629-4aa1-88d0-159c7bf1c659"
   },
   "outputs": [
    {
     "name": "stdout",
     "output_type": "stream",
     "text": [
      "<class 'pandas.core.frame.DataFrame'>\n",
      "RangeIndex: 106 entries, 0 to 105\n",
      "Data columns (total 8 columns):\n",
      " #   Column         Non-Null Count  Dtype \n",
      "---  ------         --------------  ----- \n",
      " 0   Unnamed: 0     106 non-null    object\n",
      " 1   BlackElo       106 non-null    int64 \n",
      " 2   WhiteElo       106 non-null    int64 \n",
      " 3   moves          106 non-null    object\n",
      " 4   move_num       106 non-null    int64 \n",
      " 5   winner         106 non-null    object\n",
      " 6   Black_Elo_Num  106 non-null    int64 \n",
      " 7   White_Elo_Num  106 non-null    int64 \n",
      "dtypes: int64(5), object(3)\n",
      "memory usage: 6.8+ KB\n"
     ]
    }
   ],
   "source": [
    "chess_test = pd.read_csv('chess_0814_over_2400.csv')\n",
    "chess_test.info()"
   ]
  },
  {
   "cell_type": "markdown",
   "metadata": {},
   "source": [
    "<br>"
   ]
  },
  {
   "cell_type": "markdown",
   "metadata": {
    "id": "7nboz1hNSMGl"
   },
   "source": [
    "## Data Cleaning and Transformation"
   ]
  },
  {
   "cell_type": "code",
   "execution_count": 5,
   "metadata": {
    "colab": {
     "base_uri": "https://localhost:8080/"
    },
    "id": "o_CH-YkuPQ8R",
    "outputId": "a88d1148-e98a-439e-fbae-ae1541824415"
   },
   "outputs": [
    {
     "data": {
      "text/plain": [
       "0      1. e4 e6 2. Nc3 Nf6 3. e5 Nd5 4. d4 Nxc3 5. bx...\n",
       "1      1. d4 d5 2. Nf3 c6 3. c4 Nf6 4. Nc3 e6 5. Qc2 ...\n",
       "2      1. d4 d5 2. Nf3 c6 3. c4 Nf6 4. Nc3 e6 5. Qc2 ...\n",
       "3      1. d4 d5 2. c4 e5 3. dxe5 d4 4. Nf3 Nc6 5. a3 ...\n",
       "4      1. d4 d5 2. Nf3 c6 3. c4 Nf6 4. Nc3 e6 5. e3 B...\n",
       "                             ...                        \n",
       "101    1. d4 Nf6 2. c4 e6 3. Nc3 c5 4. d5 exd5 5. cxd...\n",
       "102    1. d4 g6 2. e4 Bg7 3. c3 d6 4. f4 Nd7 5. Nf3 c...\n",
       "103    1. g3 Nf6 2. Bg2 d5 3. d3 g6 4. Nd2 Bg7 5. c3 ...\n",
       "104    1. h4 g6 2. a3 Bg7 3. h5 gxh5 4. d4 Nf6 5. Nc3...\n",
       "105    1. d4 g6 2. e4 Bg7 3. c3 d6 4. f4 Nd7 5. Nf3 c...\n",
       "Name: moves, Length: 106, dtype: object"
      ]
     },
     "execution_count": 5,
     "metadata": {
      "tags": []
     },
     "output_type": "execute_result"
    }
   ],
   "source": [
    "# Create variable for just moves\n",
    "chess_test.reset_index(inplace=True)\n",
    "moves = chess_test['moves']\n",
    "moves"
   ]
  },
  {
   "cell_type": "code",
   "execution_count": 6,
   "metadata": {
    "id": "b5OxkrqqPUW_"
   },
   "outputs": [],
   "source": [
    "# Transform data set to individual moves per row \n",
    "\n",
    "# List of characters to remove from moves \n",
    "char_list = []\n",
    "for i in range(1,500):\n",
    "    char_list.append(str(i) + '.')\n",
    "\n",
    "move_list = []\n",
    "\n",
    "for game in moves:\n",
    "    index = list(moves).index(game)\n",
    "    allmoves = game.split()\n",
    "    all_moves = [elem for elem in allmoves if elem not in char_list]\n",
    "    board = chess.Board()\n",
    "    for i in range(len(all_moves)):\n",
    "        board.push_san(all_moves[i])\n",
    "        fen = board.fen()\n",
    "        row = [index, i, fen, all_moves[i]]\n",
    "        move_list.append(row)"
   ]
  },
  {
   "cell_type": "code",
   "execution_count": 7,
   "metadata": {
    "colab": {
     "base_uri": "https://localhost:8080/"
    },
    "id": "Ufpx0445Pfyf",
    "outputId": "aab4ae9e-f39d-440d-9e81-8dab8bbacd86"
   },
   "outputs": [
    {
     "name": "stderr",
     "output_type": "stream",
     "text": [
      "/usr/local/lib/python3.7/dist-packages/ipykernel_launcher.py:3: FutureWarning: Indexing with multiple keys (implicitly converted to a tuple of keys) will be deprecated, use a list instead.\n",
      "  This is separate from the ipykernel package so we can avoid doing imports until\n"
     ]
    }
   ],
   "source": [
    "# Turn list into dataframe\n",
    "move_df = pd.DataFrame(move_list, columns = ['Game_Num', 'Move_Num', 'FEN', 'Move'])\n",
    "\n",
    "# Create variable for next move\n",
    "move_df['Next_Move'] = move_df.Move.shift(-1)\n",
    "\n",
    "# Remove last move from each game\n",
    "chess_df = move_df.groupby(['Game_Num'])['Move_Num', 'FEN', 'Move', 'Next_Move'].apply(lambda x : x[:-1])"
   ]
  },
  {
   "cell_type": "code",
   "execution_count": 8,
   "metadata": {
    "id": "5FH3cXHSLBSX"
   },
   "outputs": [],
   "source": [
    "# Below code was borrowed from https://towardsdatascience.com/creating-a-chess-engine-with-deep-learning-b9477ff3ee3d\n",
    "\n",
    "# Matrix formatting function\n",
    "def make_matrix(board): \n",
    "    pgn = board.epd()\n",
    "    foo = []  \n",
    "    pieces = pgn.split(\" \", 1)[0]\n",
    "    rows = pieces.split(\"/\")\n",
    "    for row in rows:\n",
    "        foo2 = []  \n",
    "        for thing in row:\n",
    "            if thing.isdigit():\n",
    "                for i in range(0, int(thing)):\n",
    "                    foo2.append('.')\n",
    "            else:\n",
    "                foo2.append(thing)\n",
    "        foo.append(foo2)\n",
    "    return foo\n",
    "\n",
    "\n",
    "# Translate to correct format using chess dict\n",
    "def translate(matrix,chess_dict):\n",
    "    rows = []\n",
    "    for row in matrix:\n",
    "        terms = []\n",
    "        for term in row:\n",
    "            terms.append(chess_dict[term])\n",
    "        rows.append(terms)\n",
    "    return rows\n",
    "\n",
    "\n",
    "# Chess dictionary needed for function\n",
    "chess_dict = {\n",
    "    'p' : [1,0,0,0,0,0,0,0,0,0,0,0],\n",
    "    'P' : [0,0,0,0,0,0,1,0,0,0,0,0],\n",
    "    'n' : [0,1,0,0,0,0,0,0,0,0,0,0],\n",
    "    'N' : [0,0,0,0,0,0,0,1,0,0,0,0],\n",
    "    'b' : [0,0,1,0,0,0,0,0,0,0,0,0],\n",
    "    'B' : [0,0,0,0,0,0,0,0,1,0,0,0],\n",
    "    'r' : [0,0,0,1,0,0,0,0,0,0,0,0],\n",
    "    'R' : [0,0,0,0,0,0,0,0,0,1,0,0],\n",
    "    'q' : [0,0,0,0,1,0,0,0,0,0,0,0],\n",
    "    'Q' : [0,0,0,0,0,0,0,0,0,0,1,0],\n",
    "    'k' : [0,0,0,0,0,1,0,0,0,0,0,0],\n",
    "    'K' : [0,0,0,0,0,0,0,0,0,0,0,1],\n",
    "    '.' : [0,0,0,0,0,0,0,0,0,0,0,0],\n",
    "}"
   ]
  },
  {
   "cell_type": "code",
   "execution_count": 9,
   "metadata": {
    "colab": {
     "base_uri": "https://localhost:8080/",
     "height": 235
    },
    "id": "HeANyNEkR23v",
    "outputId": "4d14bf85-95b2-4499-f044-c849efa98003"
   },
   "outputs": [
    {
     "data": {
      "text/html": [
       "<div>\n",
       "<style scoped>\n",
       "    .dataframe tbody tr th:only-of-type {\n",
       "        vertical-align: middle;\n",
       "    }\n",
       "\n",
       "    .dataframe tbody tr th {\n",
       "        vertical-align: top;\n",
       "    }\n",
       "\n",
       "    .dataframe thead th {\n",
       "        text-align: right;\n",
       "    }\n",
       "</style>\n",
       "<table border=\"1\" class=\"dataframe\">\n",
       "  <thead>\n",
       "    <tr style=\"text-align: right;\">\n",
       "      <th></th>\n",
       "      <th></th>\n",
       "      <th>Move_Num</th>\n",
       "      <th>FEN</th>\n",
       "      <th>Move</th>\n",
       "      <th>Next_Move</th>\n",
       "    </tr>\n",
       "    <tr>\n",
       "      <th>Game_Num</th>\n",
       "      <th></th>\n",
       "      <th></th>\n",
       "      <th></th>\n",
       "      <th></th>\n",
       "      <th></th>\n",
       "    </tr>\n",
       "  </thead>\n",
       "  <tbody>\n",
       "    <tr>\n",
       "      <th rowspan=\"5\" valign=\"top\">0</th>\n",
       "      <th>0</th>\n",
       "      <td>0</td>\n",
       "      <td>rnbqkbnr/pppppppp/8/8/4P3/8/PPPP1PPP/RNBQKBNR ...</td>\n",
       "      <td>e4</td>\n",
       "      <td>e6</td>\n",
       "    </tr>\n",
       "    <tr>\n",
       "      <th>1</th>\n",
       "      <td>1</td>\n",
       "      <td>rnbqkbnr/pppp1ppp/4p3/8/4P3/8/PPPP1PPP/RNBQKBN...</td>\n",
       "      <td>e6</td>\n",
       "      <td>Nc3</td>\n",
       "    </tr>\n",
       "    <tr>\n",
       "      <th>2</th>\n",
       "      <td>2</td>\n",
       "      <td>rnbqkbnr/pppp1ppp/4p3/8/4P3/2N5/PPPP1PPP/R1BQK...</td>\n",
       "      <td>Nc3</td>\n",
       "      <td>Nf6</td>\n",
       "    </tr>\n",
       "    <tr>\n",
       "      <th>3</th>\n",
       "      <td>3</td>\n",
       "      <td>rnbqkb1r/pppp1ppp/4pn2/8/4P3/2N5/PPPP1PPP/R1BQ...</td>\n",
       "      <td>Nf6</td>\n",
       "      <td>e5</td>\n",
       "    </tr>\n",
       "    <tr>\n",
       "      <th>4</th>\n",
       "      <td>4</td>\n",
       "      <td>rnbqkb1r/pppp1ppp/4pn2/4P3/8/2N5/PPPP1PPP/R1BQ...</td>\n",
       "      <td>e5</td>\n",
       "      <td>Nd5</td>\n",
       "    </tr>\n",
       "  </tbody>\n",
       "</table>\n",
       "</div>"
      ],
      "text/plain": [
       "            Move_Num  ... Next_Move\n",
       "Game_Num              ...          \n",
       "0        0         0  ...        e6\n",
       "         1         1  ...       Nc3\n",
       "         2         2  ...       Nf6\n",
       "         3         3  ...        e5\n",
       "         4         4  ...       Nd5\n",
       "\n",
       "[5 rows x 4 columns]"
      ]
     },
     "execution_count": 9,
     "metadata": {
      "tags": []
     },
     "output_type": "execute_result"
    }
   ],
   "source": [
    "chess_df.head()"
   ]
  },
  {
   "cell_type": "markdown",
   "metadata": {},
   "source": [
    "<br>"
   ]
  },
  {
   "cell_type": "markdown",
   "metadata": {
    "id": "HG0DF4ufSW8S"
   },
   "source": [
    "## Create and Run Functions Evaluating Neural Network Models"
   ]
  },
  {
   "cell_type": "code",
   "execution_count": 10,
   "metadata": {
    "id": "vFhNYGeUK5Bh"
   },
   "outputs": [],
   "source": [
    "# Evaluate each legal move using neural net model\n",
    "def evaluate(fen, model):\n",
    "    lst = []\n",
    "    board = chess.Board(fen)\n",
    "    for move in board.legal_moves:\n",
    "            board.push(move)\n",
    "            matrix = make_matrix(board)\n",
    "            board.pop()\n",
    "            rows = translate(matrix,chess_dict)\n",
    "            value = (model.predict([rows])).item()\n",
    "            move_san = board.san(move)\n",
    "            item = [move_san, value]\n",
    "            lst.append(item)\n",
    "    return lst"
   ]
  },
  {
   "cell_type": "code",
   "execution_count": 11,
   "metadata": {
    "id": "X3yIbuJ4K5Fc"
   },
   "outputs": [],
   "source": [
    "# Find neural net move with highest value\n",
    "def get_NN_move(fen, model):\n",
    "    evaluation = evaluate(fen, model)\n",
    "    maximum = -1\n",
    "    best_move = None\n",
    "    for term in evaluation:\n",
    "        if term[1] > maximum:\n",
    "            maximum = term[1]\n",
    "            best_move = term[0]\n",
    "    return best_move"
   ]
  },
  {
   "cell_type": "code",
   "execution_count": null,
   "metadata": {
    "id": "9Rc9T2UwK5Kl"
   },
   "outputs": [],
   "source": [
    "# Get the neural net move for each model\n",
    "for index, row in chess_df.iterrows():\n",
    "    m5 = get_NN_move(row['FEN'], model_5)\n",
    "    chess_df.loc[index,'NN_Move_m5'] = m5\n",
    "    m6 = get_NN_move(row['FEN'], model_6)\n",
    "    chess_df.loc[index,'NN_Move_m6'] = m6\n",
    "    m7 = get_NN_move(row['FEN'], model_7)\n",
    "    chess_df.loc[index,'NN_Move_m7'] = m7\n",
    "    m8 = get_NN_move(row['FEN'], model_8)\n",
    "    chess_df.loc[index,'NN_Move_m8'] = m8\n",
    "    m9 = get_NN_move(row['FEN'], model_9)\n",
    "    chess_df.loc[index,'NN_Move_m9'] = m9"
   ]
  },
  {
   "cell_type": "markdown",
   "metadata": {},
   "source": [
    "<br>"
   ]
  },
  {
   "cell_type": "markdown",
   "metadata": {
    "id": "VW1yOMrCSjp0"
   },
   "source": [
    "## Evaluate the Moves Matched"
   ]
  },
  {
   "cell_type": "code",
   "execution_count": 13,
   "metadata": {
    "id": "h6-l6cU4K5PQ"
   },
   "outputs": [],
   "source": [
    "# Create variables to see if the next move matched the neural network model\n",
    "chess_df['M5_Compare'] = np.where(chess_df['Next_Move'] == chess_df['NN_Move_m5'], True, False)\n",
    "chess_df['M6_Compare'] = np.where(chess_df['Next_Move'] == chess_df['NN_Move_m6'], True, False)\n",
    "chess_df['M7_Compare'] = np.where(chess_df['Next_Move'] == chess_df['NN_Move_m7'], True, False)\n",
    "chess_df['M8_Compare'] = np.where(chess_df['Next_Move'] == chess_df['NN_Move_m8'], True, False)\n",
    "chess_df['M9_Compare'] = np.where(chess_df['Next_Move'] == chess_df['NN_Move_m9'], True, False)"
   ]
  },
  {
   "cell_type": "code",
   "execution_count": 14,
   "metadata": {
    "colab": {
     "base_uri": "https://localhost:8080/"
    },
    "id": "jZvFXuXGKrJb",
    "outputId": "a373b582-bfd7-4d6e-8fb2-c87ab2ef035e"
   },
   "outputs": [
    {
     "data": {
      "text/plain": [
       "False    8271\n",
       "True      798\n",
       "Name: M5_Compare, dtype: int64"
      ]
     },
     "execution_count": 14,
     "metadata": {
      "tags": []
     },
     "output_type": "execute_result"
    }
   ],
   "source": [
    "# Find number of matched moves\n",
    "chess_df['M5_Compare'].value_counts()"
   ]
  },
  {
   "cell_type": "code",
   "execution_count": 15,
   "metadata": {
    "colab": {
     "base_uri": "https://localhost:8080/"
    },
    "id": "DaIDSqjdKvhC",
    "outputId": "55b0efd8-ed5f-47e4-b6c6-1a7fe9635a7a"
   },
   "outputs": [
    {
     "data": {
      "text/plain": [
       "False    8314\n",
       "True      755\n",
       "Name: M6_Compare, dtype: int64"
      ]
     },
     "execution_count": 15,
     "metadata": {
      "tags": []
     },
     "output_type": "execute_result"
    }
   ],
   "source": [
    "# Find number of matched moves\n",
    "chess_df['M6_Compare'].value_counts()"
   ]
  },
  {
   "cell_type": "code",
   "execution_count": 16,
   "metadata": {
    "colab": {
     "base_uri": "https://localhost:8080/"
    },
    "id": "IRQ91GmHKvkr",
    "outputId": "b3a49e17-1a6e-4278-c2c1-2d8c1e77c372"
   },
   "outputs": [
    {
     "data": {
      "text/plain": [
       "False    8337\n",
       "True      732\n",
       "Name: M7_Compare, dtype: int64"
      ]
     },
     "execution_count": 16,
     "metadata": {
      "tags": []
     },
     "output_type": "execute_result"
    }
   ],
   "source": [
    "# Find number of matched moves\n",
    "chess_df['M7_Compare'].value_counts()"
   ]
  },
  {
   "cell_type": "code",
   "execution_count": 17,
   "metadata": {
    "colab": {
     "base_uri": "https://localhost:8080/"
    },
    "id": "HQVCEAgSKvnT",
    "outputId": "46122701-25cf-4332-ca4b-8261d8c81bec"
   },
   "outputs": [
    {
     "data": {
      "text/plain": [
       "False    8253\n",
       "True      816\n",
       "Name: M8_Compare, dtype: int64"
      ]
     },
     "execution_count": 17,
     "metadata": {
      "tags": []
     },
     "output_type": "execute_result"
    }
   ],
   "source": [
    "# Find number of matched moves\n",
    "chess_df['M8_Compare'].value_counts()"
   ]
  },
  {
   "cell_type": "code",
   "execution_count": 19,
   "metadata": {
    "colab": {
     "base_uri": "https://localhost:8080/"
    },
    "id": "XeAf5vkkK2Vq",
    "outputId": "c43e4ed2-76f6-4a61-de87-c867b466a798"
   },
   "outputs": [
    {
     "data": {
      "text/plain": [
       "False    8298\n",
       "True      771\n",
       "Name: M9_Compare, dtype: int64"
      ]
     },
     "execution_count": 19,
     "metadata": {
      "tags": []
     },
     "output_type": "execute_result"
    }
   ],
   "source": [
    "# Find number of matched moves\n",
    "chess_df['M9_Compare'].value_counts()"
   ]
  }
 ],
 "metadata": {
  "accelerator": "GPU",
  "colab": {
   "collapsed_sections": [],
   "name": "Evaluate Neural Network Models.ipynb",
   "provenance": [],
   "toc_visible": true
  },
  "kernelspec": {
   "display_name": "Python 3",
   "language": "python",
   "name": "python3"
  },
  "language_info": {
   "codemirror_mode": {
    "name": "ipython",
    "version": 3
   },
   "file_extension": ".py",
   "mimetype": "text/x-python",
   "name": "python",
   "nbconvert_exporter": "python",
   "pygments_lexer": "ipython3",
   "version": "3.8.8"
  }
 },
 "nbformat": 4,
 "nbformat_minor": 4
}
