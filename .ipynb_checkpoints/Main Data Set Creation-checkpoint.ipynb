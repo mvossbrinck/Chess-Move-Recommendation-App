{
 "cells": [
  {
   "cell_type": "code",
   "execution_count": 2,
   "id": "minimal-maximum",
   "metadata": {},
   "outputs": [],
   "source": [
    "import chess.pgn\n",
    "\n",
    "games = open(\"lichess_db_standard_rated_2017-02.pgn\", encoding=\"utf8\", errors='ignore')"
   ]
  },
  {
   "cell_type": "code",
   "execution_count": null,
   "id": "tribal-playing",
   "metadata": {},
   "outputs": [],
   "source": [
    "result = {}\n",
    "i = 0\n",
    "while True:\n",
    "    i += 1\n",
    "    game = chess.pgn.read_game(games)\n",
    "    if game is None:\n",
    "        break\n",
    "\n",
    "    headers = dict(game.headers)\n",
    "    headers[\"moves\"] = game.board().variation_san(game.mainline_moves())\n",
    "    headers[\"move_num\"] = headers[\"moves\"].count('.')\n",
    "\n",
    "    result[\"Game{}\".format(i)] = headers"
   ]
  },
  {
   "cell_type": "code",
   "execution_count": null,
   "id": "loved-runner",
   "metadata": {},
   "outputs": [],
   "source": [
    "import numpy as np\n",
    "\n",
    "df['winner'] = np.where(df['Result'] == '1-0', 'white', \n",
    "                         np.where(df['Result'] == '0-1', 'black', 'draw'\n",
    "                         ))\n",
    "df.head()"
   ]
  },
  {
   "cell_type": "code",
   "execution_count": null,
   "id": "acoustic-fireplace",
   "metadata": {},
   "outputs": [],
   "source": []
  }
 ],
 "metadata": {
  "kernelspec": {
   "display_name": "Python 3",
   "language": "python",
   "name": "python3"
  },
  "language_info": {
   "codemirror_mode": {
    "name": "ipython",
    "version": 3
   },
   "file_extension": ".py",
   "mimetype": "text/x-python",
   "name": "python",
   "nbconvert_exporter": "python",
   "pygments_lexer": "ipython3",
   "version": "3.8.8"
  }
 },
 "nbformat": 4,
 "nbformat_minor": 5
}
