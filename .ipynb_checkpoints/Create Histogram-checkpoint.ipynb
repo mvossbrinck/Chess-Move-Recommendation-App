{
 "cells": [
  {
   "cell_type": "markdown",
   "id": "express-macintosh",
   "metadata": {},
   "source": [
    "## Import Packages and Data Set"
   ]
  },
  {
   "cell_type": "code",
   "execution_count": 1,
   "id": "collected-strap",
   "metadata": {},
   "outputs": [],
   "source": [
    "import pickle\n",
    "import matplotlib.pyplot as plt"
   ]
  },
  {
   "cell_type": "code",
   "execution_count": 2,
   "id": "burning-traffic",
   "metadata": {},
   "outputs": [
    {
     "name": "stdout",
     "output_type": "stream",
     "text": [
      "<class 'pandas.core.frame.DataFrame'>\n",
      "Index: 32740 entries, Game11 to Game1000055\n",
      "Data columns (total 7 columns):\n",
      " #   Column         Non-Null Count  Dtype \n",
      "---  ------         --------------  ----- \n",
      " 0   BlackElo       32740 non-null  object\n",
      " 1   WhiteElo       32740 non-null  object\n",
      " 2   moves          32740 non-null  object\n",
      " 3   move_num       32740 non-null  object\n",
      " 4   winner         32740 non-null  object\n",
      " 5   Black_Elo_Num  32740 non-null  int64 \n",
      " 6   White_Elo_Num  32740 non-null  int64 \n",
      "dtypes: int64(2), object(5)\n",
      "memory usage: 2.0+ MB\n"
     ]
    }
   ],
   "source": [
    "# Pull in data set\n",
    "with open('2014_09_over_1800_one_2100_chess_data.pickle','rb') as read_file:\n",
    "    chess_df = pickle.load(read_file)\n",
    "\n",
    "chess_df.info()"
   ]
  },
  {
   "cell_type": "markdown",
   "id": "generous-election",
   "metadata": {},
   "source": [
    "<br>"
   ]
  },
  {
   "cell_type": "markdown",
   "id": "competitive-tunnel",
   "metadata": {},
   "source": [
    "## Create Variable and Histogram"
   ]
  },
  {
   "cell_type": "code",
   "execution_count": 3,
   "id": "piano-omega",
   "metadata": {},
   "outputs": [],
   "source": [
    "# Calculate difference between Elo ratings of two players\n",
    "chess_df['Diff_in_Elo'] = chess_df['White_Elo_Num'] - chess_df['Black_Elo_Num']"
   ]
  },
  {
   "cell_type": "code",
   "execution_count": 4,
   "id": "theoretical-resource",
   "metadata": {},
   "outputs": [
    {
     "data": {
      "image/png": "[encoded data removed]",
      "text/plain": [
       "<Figure size 720x432 with 1 Axes>"
      ]
     },
     "metadata": {
      "needs_background": "light"
     },
     "output_type": "display_data"
    }
   ],
   "source": [
    "# Plot histogram of differences in Elo ratings\n",
    "plt.figure(figsize=(10,6)) \n",
    "plt.xlim(-1000, 1000)\n",
    "plt.title(\"Difference Between Player Elo Ratings\", fontsize = 20)\n",
    "plt.xlabel(\"Difference in Elo Ratings\", fontsize = 16)\n",
    "plt.ylabel(\"Number\\n of\\n Games\", fontsize = 16, rotation=0, labelpad=45)\n",
    "plt.hist(chess_df['Diff_in_Elo'], bins = 50)\n",
    "plt.tight_layout()\n",
    "plt.savefig(\"elo.svg\");"
   ]
  },
  {
   "cell_type": "code",
   "execution_count": 5,
   "id": "ambient-gazette",
   "metadata": {},
   "outputs": [
    {
     "data": {
      "text/plain": [
       "count    32740.000000\n",
       "mean        -2.959163\n",
       "std        224.856842\n",
       "min       -797.000000\n",
       "25%       -166.000000\n",
       "50%         -3.000000\n",
       "75%        159.000000\n",
       "max        756.000000\n",
       "Name: Diff_in_Elo, dtype: float64"
      ]
     },
     "execution_count": 5,
     "metadata": {},
     "output_type": "execute_result"
    }
   ],
   "source": [
    "# Look at summary of differences in Elo ratings\n",
    "chess_df['Diff_in_Elo'].describe()"
   ]
  }
 ],
 "metadata": {
  "kernelspec": {
   "display_name": "Python 3",
   "language": "python",
   "name": "python3"
  },
  "language_info": {
   "codemirror_mode": {
    "name": "ipython",
    "version": 3
   },
   "file_extension": ".py",
   "mimetype": "text/x-python",
   "name": "python",
   "nbconvert_exporter": "python",
   "pygments_lexer": "ipython3",
   "version": "3.8.8"
  }
 },
 "nbformat": 4,
 "nbformat_minor": 5
}
