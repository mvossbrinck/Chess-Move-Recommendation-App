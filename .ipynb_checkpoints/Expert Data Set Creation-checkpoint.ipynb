{
 "cells": [
  {
   "cell_type": "markdown",
   "id": "unusual-greenhouse",
   "metadata": {},
   "source": [
    "## Import Packages and Data Set"
   ]
  },
  {
   "cell_type": "code",
   "execution_count": null,
   "id": "periodic-guard",
   "metadata": {},
   "outputs": [],
   "source": [
    "import chess.pgn\n",
    "import numpy as np\n",
    "import pandas as pd\n",
    "import pickle"
   ]
  },
  {
   "cell_type": "code",
   "execution_count": null,
   "id": "danish-tobacco",
   "metadata": {},
   "outputs": [],
   "source": [
    "games = open(\"lichess_db_standard_rated_2014-08.pgn\", encoding=\"utf8\", errors='ignore')"
   ]
  },
  {
   "cell_type": "markdown",
   "id": "solar-france",
   "metadata": {},
   "source": [
    "<br>"
   ]
  },
  {
   "cell_type": "markdown",
   "id": "august-hamburg",
   "metadata": {},
   "source": [
    "## Data Cleaning and Filtering"
   ]
  },
  {
   "cell_type": "code",
   "execution_count": null,
   "id": "electoral-primary",
   "metadata": {},
   "outputs": [],
   "source": [
    "# Read in each game and format\n",
    "result = {}\n",
    "i = 0\n",
    "while True:\n",
    "    i += 1\n",
    "    game = chess.pgn.read_game(games)\n",
    "    if game is None:\n",
    "        break\n",
    "\n",
    "    headers = dict(game.headers)\n",
    "    headers[\"moves\"] = game.board().variation_san(game.mainline_moves())\n",
    "    headers[\"move_num\"] = headers[\"moves\"].count('.')\n",
    "\n",
    "    result[\"Game{}\".format(i)] = headers"
   ]
  },
  {
   "cell_type": "code",
   "execution_count": null,
   "id": "featured-august",
   "metadata": {},
   "outputs": [],
   "source": [
    "# Create data frame of results\n",
    "results = pd.DataFrame(result)\n",
    "df = results.transpose()\n",
    "df.info()"
   ]
  },
  {
   "cell_type": "code",
   "execution_count": null,
   "id": "statutory-contributor",
   "metadata": {},
   "outputs": [],
   "source": [
    "# Create variable for winner\n",
    "df['winner'] = np.where(df['Result'] == '1-0', 'white', np.where(df['Result'] == '0-1', 'black', 'draw'))"
   ]
  },
  {
   "cell_type": "code",
   "execution_count": null,
   "id": "collected-leave",
   "metadata": {},
   "outputs": [],
   "source": [
    "# Remove games that were a draw\n",
    "chessdf = df[df['winner']!='draw']\n",
    "chessdf.head()"
   ]
  },
  {
   "cell_type": "code",
   "execution_count": null,
   "id": "departmental-trade",
   "metadata": {},
   "outputs": [],
   "source": [
    "# Save copy of Aug 2014 data\n",
    "with open('2014_08_chess_data.pickle', 'wb') as to_write:\n",
    "        pickle.dump(chessdf, to_write)"
   ]
  },
  {
   "cell_type": "code",
   "execution_count": null,
   "id": "deluxe-momentum",
   "metadata": {},
   "outputs": [],
   "source": [
    "# Remove games with unknown Elo ratings\n",
    "has_white_elo = chessdf[chessdf['WhiteElo'] != '?']\n",
    "has_black_elo = has_white_elo[has_white_elo['BlackElo'] != '?']"
   ]
  },
  {
   "cell_type": "code",
   "execution_count": null,
   "id": "major-visitor",
   "metadata": {},
   "outputs": [],
   "source": [
    "# Restrict data to just necessary columns\n",
    "chess_games = has_black_elo[['BlackElo', 'WhiteElo', 'moves', 'move_num', 'winner']]\n",
    "chess_games.head()"
   ]
  },
  {
   "cell_type": "code",
   "execution_count": null,
   "id": "changed-postage",
   "metadata": {},
   "outputs": [],
   "source": [
    "# Create int variables for Elo ratings \n",
    "chess_games['Black_Elo_Num'] = chess_games['BlackElo'].astype(int)\n",
    "chess_games['White_Elo_Num'] = chess_games['WhiteElo'].astype(int)\n",
    "chess_games.info()"
   ]
  },
  {
   "cell_type": "code",
   "execution_count": null,
   "id": "aging-ferry",
   "metadata": {},
   "outputs": [],
   "source": [
    "# Find scores in top 0.1%\n",
    "chess_games.quantile(.999, axis = 0) \n",
    "# Rounded up to 2400"
   ]
  },
  {
   "cell_type": "code",
   "execution_count": null,
   "id": "metropolitan-might",
   "metadata": {},
   "outputs": [],
   "source": [
    "# Restrict data to only players with 2400 or above Elo rating\n",
    "over_2400 = chess_games[(chess_games['White_Elo_Num'] >= 2400) & (chess_games['Black_Elo_Num'] >= 2400)]\n",
    "over_2400.info()"
   ]
  },
  {
   "cell_type": "code",
   "execution_count": null,
   "id": "careful-priority",
   "metadata": {},
   "outputs": [],
   "source": [
    "# Pickle data set\n",
    "with open('2014_08_over_2400_chess_data.pickle', 'wb') as to_write:\n",
    "        pickle.dump(over_2400, to_write)"
   ]
  },
  {
   "cell_type": "code",
   "execution_count": null,
   "id": "earned-aging",
   "metadata": {},
   "outputs": [],
   "source": [
    "# Save data set to csv\n",
    "over_2400.to_csv('chess_0814_over_2400.csv')"
   ]
  }
 ],
 "metadata": {
  "kernelspec": {
   "display_name": "Python 3",
   "language": "python",
   "name": "python3"
  },
  "language_info": {
   "codemirror_mode": {
    "name": "ipython",
    "version": 3
   },
   "file_extension": ".py",
   "mimetype": "text/x-python",
   "name": "python",
   "nbconvert_exporter": "python",
   "pygments_lexer": "ipython3",
   "version": "3.8.8"
  }
 },
 "nbformat": 4,
 "nbformat_minor": 5
}
