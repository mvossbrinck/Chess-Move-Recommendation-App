{
 "cells": [
  {
   "cell_type": "code",
   "execution_count": 2,
   "id": "collectible-kitty",
   "metadata": {},
   "outputs": [],
   "source": [
    "import pickle\n",
    "import chess\n",
    "import pandas as pd\n",
    "import numpy as np \n",
    "from chess_minimax2 import get_minimax_move\n",
    "from chess_random import get_random_move\n",
    "from chess_neuralnet import get_NN_move"
   ]
  },
  {
   "cell_type": "code",
   "execution_count": 3,
   "id": "chief-chorus",
   "metadata": {},
   "outputs": [
    {
     "name": "stdout",
     "output_type": "stream",
     "text": [
      "<class 'pandas.core.frame.DataFrame'>\n",
      "Index: 106 entries, Game47674 to Game993220\n",
      "Data columns (total 7 columns):\n",
      " #   Column         Non-Null Count  Dtype \n",
      "---  ------         --------------  ----- \n",
      " 0   BlackElo       106 non-null    object\n",
      " 1   WhiteElo       106 non-null    object\n",
      " 2   moves          106 non-null    object\n",
      " 3   move_num       106 non-null    object\n",
      " 4   winner         106 non-null    object\n",
      " 5   Black_Elo_Num  106 non-null    int64 \n",
      " 6   White_Elo_Num  106 non-null    int64 \n",
      "dtypes: int64(2), object(5)\n",
      "memory usage: 6.6+ KB\n"
     ]
    }
   ],
   "source": [
    "with open('2014_08_over_2400_chess_data.pickle','rb') as read_file:\n",
    "    chess_df = pickle.load(read_file)\n",
    "\n",
    "chess_df.info()"
   ]
  },
  {
   "cell_type": "code",
   "execution_count": 4,
   "id": "aboriginal-clarity",
   "metadata": {},
   "outputs": [],
   "source": [
    "chess_df.reset_index(inplace=True)\n",
    "moves = chess_df['moves']"
   ]
  },
  {
   "cell_type": "code",
   "execution_count": 5,
   "id": "loaded-corruption",
   "metadata": {},
   "outputs": [],
   "source": [
    "char_list = []\n",
    "for i in range(1,500):\n",
    "    char_list.append(str(i) + '.')\n",
    "\n",
    "move_list = []\n",
    "\n",
    "for game in moves:\n",
    "    index = list(moves).index(game)\n",
    "    allmoves = game.split()\n",
    "    all_moves = [elem for elem in allmoves if elem not in char_list]\n",
    "    board = chess.Board()\n",
    "    for i in range(len(all_moves)):\n",
    "        board.push_san(all_moves[i])\n",
    "        fen = board.fen()\n",
    "        row = [index, i, fen, all_moves[i]]\n",
    "        move_list.append(row)"
   ]
  },
  {
   "cell_type": "code",
   "execution_count": 7,
   "id": "oriental-scientist",
   "metadata": {},
   "outputs": [
    {
     "name": "stderr",
     "output_type": "stream",
     "text": [
      "<ipython-input-7-00a410d3eefe>:3: FutureWarning: Indexing with multiple keys (implicitly converted to a tuple of keys) will be deprecated, use a list instead.\n",
      "  ddf = move_df.groupby(['Game_Num'])['Move_Num', 'FEN', 'Move'].apply(lambda x : x[:-1])\n"
     ]
    }
   ],
   "source": [
    "move_df = pd.DataFrame(move_list, columns = ['Game_Num', 'Move_Num', 'FEN', 'Move'])\n",
    "move_df['Next_Move'] = move_df.Move.shift(-1)\n",
    "ddf = move_df.groupby(['Game_Num'])['Move_Num', 'FEN', 'Move'].apply(lambda x : x[:-1])"
   ]
  },
  {
   "cell_type": "code",
   "execution_count": null,
   "id": "adapted-content",
   "metadata": {},
   "outputs": [],
   "source": [
    "for index, row in ddf.iterrows():\n",
    "    try:\n",
    "        rand = get_random_move(row['FEN'])\n",
    "        ddf.at[index,'Rand_Move'] = rand\n",
    "    except:\n",
    "        ddf.at[index,'Rand_Move'] = None\n",
    "    try:\n",
    "        minimax = get_minimax_move(row['FEN'])\n",
    "        ddf.at[index,'Minimax_Move'] = minimax\n",
    "    except:\n",
    "        ddf.at[index,'Minimax_Move'] = None\n",
    "    try:\n",
    "        NN = get_NN_move(row['FEN'])\n",
    "        ddf.at[index,'NeuralNet_Move'] = NN\n",
    "    except:\n",
    "        ddf.at[index,'NeuralNet_Move'] = None"
   ]
  },
  {
   "cell_type": "code",
   "execution_count": null,
   "id": "crucial-tuition",
   "metadata": {},
   "outputs": [],
   "source": [
    "ddf.head()"
   ]
  },
  {
   "cell_type": "code",
   "execution_count": null,
   "id": "legendary-median",
   "metadata": {},
   "outputs": [],
   "source": [
    "ddf['Random_Compare'] = np.where(ddf['Next_Move'] == ddf['Rand_Move'], True, False)\n",
    "ddf['Minimax_Compare'] = np.where(ddf['Next_Move'] == ddf['Minimax_Move'], True, False)\n",
    "ddf['NeuralNet_Compare'] = np.where(ddf['Next_Move'] == ddf['NeuralNet_Move'], True, False)"
   ]
  },
  {
   "cell_type": "code",
   "execution_count": null,
   "id": "constitutional-river",
   "metadata": {},
   "outputs": [],
   "source": [
    "ddf['Random_Compare'].value_counts()"
   ]
  },
  {
   "cell_type": "code",
   "execution_count": null,
   "id": "infinite-forty",
   "metadata": {},
   "outputs": [],
   "source": [
    "ddf['Minimax_Compare'].value_counts()"
   ]
  },
  {
   "cell_type": "code",
   "execution_count": null,
   "id": "infectious-genealogy",
   "metadata": {},
   "outputs": [],
   "source": [
    "ddf['NeuralNet_Compare'].value_counts()"
   ]
  },
  {
   "cell_type": "code",
   "execution_count": null,
   "id": "broken-aircraft",
   "metadata": {},
   "outputs": [],
   "source": []
  }
 ],
 "metadata": {
  "kernelspec": {
   "display_name": "tfflask",
   "language": "python",
   "name": "tfflask"
  },
  "language_info": {
   "codemirror_mode": {
    "name": "ipython",
    "version": 3
   },
   "file_extension": ".py",
   "mimetype": "text/x-python",
   "name": "python",
   "nbconvert_exporter": "python",
   "pygments_lexer": "ipython3",
   "version": "3.8.8"
  }
 },
 "nbformat": 4,
 "nbformat_minor": 5
}
