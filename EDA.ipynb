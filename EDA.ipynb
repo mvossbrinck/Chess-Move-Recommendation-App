{
 "cells": [
  {
   "cell_type": "code",
   "execution_count": 1,
   "id": "growing-recorder",
   "metadata": {},
   "outputs": [
    {
     "name": "stdout",
     "output_type": "stream",
     "text": [
      "<class 'pandas.core.frame.DataFrame'>\n",
      "Index: 27780 entries, Game11 to Game1000025\n",
      "Data columns (total 7 columns):\n",
      " #   Column         Non-Null Count  Dtype \n",
      "---  ------         --------------  ----- \n",
      " 0   BlackElo       27780 non-null  object\n",
      " 1   WhiteElo       27780 non-null  object\n",
      " 2   moves          27780 non-null  object\n",
      " 3   move_num       27780 non-null  object\n",
      " 4   winner         27780 non-null  object\n",
      " 5   Black_Elo_Num  27780 non-null  int64 \n",
      " 6   White_Elo_Num  27780 non-null  int64 \n",
      "dtypes: int64(2), object(5)\n",
      "memory usage: 1.7+ MB\n"
     ]
    }
   ],
   "source": [
    "import pickle\n",
    "\n",
    "with open('2014_09_over_2000_chess_data.pickle','rb') as read_file:\n",
    "    chess_df = pickle.load(read_file)\n",
    "\n",
    "chess_df.info()"
   ]
  },
  {
   "cell_type": "code",
   "execution_count": 14,
   "id": "hindu-accuracy",
   "metadata": {},
   "outputs": [
    {
     "data": {
      "image/png": "[encoded data removed]",
      "text/plain": [
       "<Figure size 576x432 with 1 Axes>"
      ]
     },
     "metadata": {
      "needs_background": "light"
     },
     "output_type": "display_data"
    }
   ],
   "source": [
    "import matplotlib.pyplot as plt\n",
    "\n",
    "plt.figure(figsize=(8,6)) \n",
    "plt.ylabel(\"Number of Games\")\n",
    "plt.xlabel(\"Number of Moves\")\n",
    "plt.hist(chess_df['move_num']);"
   ]
  },
  {
   "cell_type": "code",
   "execution_count": null,
   "id": "conscious-heater",
   "metadata": {},
   "outputs": [],
   "source": []
  }
 ],
 "metadata": {
  "kernelspec": {
   "display_name": "Python 3",
   "language": "python",
   "name": "python3"
  },
  "language_info": {
   "codemirror_mode": {
    "name": "ipython",
    "version": 3
   },
   "file_extension": ".py",
   "mimetype": "text/x-python",
   "name": "python",
   "nbconvert_exporter": "python",
   "pygments_lexer": "ipython3",
   "version": "3.8.8"
  }
 },
 "nbformat": 4,
 "nbformat_minor": 5
}
