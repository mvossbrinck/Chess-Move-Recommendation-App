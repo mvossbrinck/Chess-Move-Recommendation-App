{
 "cells": [
  {
   "cell_type": "code",
   "execution_count": 1,
   "id": "polished-cathedral",
   "metadata": {},
   "outputs": [],
   "source": [
    "import pickle\n",
    "import numpy as np\n",
    "import pandas as pd\n",
    "import chess"
   ]
  },
  {
   "cell_type": "code",
   "execution_count": 2,
   "id": "bibliographic-enemy",
   "metadata": {},
   "outputs": [
    {
     "name": "stdout",
     "output_type": "stream",
     "text": [
      "<class 'pandas.core.frame.DataFrame'>\n",
      "Index: 25000 entries, Game1 to Game25837\n",
      "Data columns (total 22 columns):\n",
      " #   Column           Non-Null Count  Dtype \n",
      "---  ------           --------------  ----- \n",
      " 0   Event            25000 non-null  object\n",
      " 1   Site             25000 non-null  object\n",
      " 2   Date             25000 non-null  object\n",
      " 3   Round            25000 non-null  object\n",
      " 4   White            25000 non-null  object\n",
      " 5   Black            25000 non-null  object\n",
      " 6   Result           25000 non-null  object\n",
      " 7   BlackElo         25000 non-null  object\n",
      " 8   BlackRatingDiff  24948 non-null  object\n",
      " 9   ECO              25000 non-null  object\n",
      " 10  Opening          25000 non-null  object\n",
      " 11  Termination      25000 non-null  object\n",
      " 12  TimeControl      25000 non-null  object\n",
      " 13  UTCDate          25000 non-null  object\n",
      " 14  UTCTime          25000 non-null  object\n",
      " 15  WhiteElo         25000 non-null  object\n",
      " 16  WhiteRatingDiff  24948 non-null  object\n",
      " 17  moves            25000 non-null  object\n",
      " 18  move_num         25000 non-null  object\n",
      " 19  BlackTitle       0 non-null      object\n",
      " 20  WhiteTitle       0 non-null      object\n",
      " 21  winner           25000 non-null  object\n",
      "dtypes: object(22)\n",
      "memory usage: 4.4+ MB\n"
     ]
    }
   ],
   "source": [
    "with open('2013_01_chess_data.pickle','rb') as read_file:\n",
    "    chess_df = pickle.load(read_file)\n",
    "\n",
    "chess_df = chess_df.iloc[0:25000]\n",
    "chess_df.info()"
   ]
  },
  {
   "cell_type": "code",
   "execution_count": 3,
   "id": "cardiac-colors",
   "metadata": {},
   "outputs": [],
   "source": [
    "moves = chess_df['moves']\n",
    "winner = chess_df['winner']\n",
    "move_num = chess_df['move_num']\n",
    "X = []\n",
    "y = []"
   ]
  },
  {
   "cell_type": "code",
   "execution_count": 4,
   "id": "streaming-focus",
   "metadata": {},
   "outputs": [
    {
     "data": {
      "text/plain": [
       "125"
      ]
     },
     "execution_count": 4,
     "metadata": {},
     "output_type": "execute_result"
    }
   ],
   "source": [
    "max(move_num)"
   ]
  },
  {
   "cell_type": "code",
   "execution_count": 5,
   "id": "checked-henry",
   "metadata": {},
   "outputs": [],
   "source": [
    "char_list = []\n",
    "for i in range(1,500):\n",
    "    char_list.append(str(i) + '.')"
   ]
  },
  {
   "cell_type": "code",
   "execution_count": 6,
   "id": "spanish-laundry",
   "metadata": {},
   "outputs": [],
   "source": [
    "def make_matrix(board): \n",
    "    pgn = board.epd()\n",
    "    foo = []  \n",
    "    pieces = pgn.split(\" \", 1)[0]\n",
    "    rows = pieces.split(\"/\")\n",
    "    for row in rows:\n",
    "        foo2 = []  \n",
    "        for thing in row:\n",
    "            if thing.isdigit():\n",
    "                for i in range(0, int(thing)):\n",
    "                    foo2.append('.')\n",
    "            else:\n",
    "                foo2.append(thing)\n",
    "        foo.append(foo2)\n",
    "    return foo\n",
    "def translate(matrix,chess_dict):\n",
    "    rows = []\n",
    "    for row in matrix:\n",
    "        terms = []\n",
    "        for term in row:\n",
    "            terms.append(chess_dict[term])\n",
    "        rows.append(terms)\n",
    "    return rows\n",
    "chess_dict = {\n",
    "    'p' : [1,0,0,0,0,0,0,0,0,0,0,0],\n",
    "    'P' : [0,0,0,0,0,0,1,0,0,0,0,0],\n",
    "    'n' : [0,1,0,0,0,0,0,0,0,0,0,0],\n",
    "    'N' : [0,0,0,0,0,0,0,1,0,0,0,0],\n",
    "    'b' : [0,0,1,0,0,0,0,0,0,0,0,0],\n",
    "    'B' : [0,0,0,0,0,0,0,0,1,0,0,0],\n",
    "    'r' : [0,0,0,1,0,0,0,0,0,0,0,0],\n",
    "    'R' : [0,0,0,0,0,0,0,0,0,1,0,0],\n",
    "    'q' : [0,0,0,0,1,0,0,0,0,0,0,0],\n",
    "    'Q' : [0,0,0,0,0,0,0,0,0,0,1,0],\n",
    "    'k' : [0,0,0,0,0,1,0,0,0,0,0,0],\n",
    "    'K' : [0,0,0,0,0,0,0,0,0,0,0,1],\n",
    "    '.' : [0,0,0,0,0,0,0,0,0,0,0,0],\n",
    "}"
   ]
  },
  {
   "cell_type": "code",
   "execution_count": 7,
   "id": "prompt-judge",
   "metadata": {},
   "outputs": [
    {
     "data": {
      "text/plain": [
       "(1619896, 8, 8, 12)"
      ]
     },
     "execution_count": 7,
     "metadata": {},
     "output_type": "execute_result"
    }
   ],
   "source": [
    "for game in moves:\n",
    "    index = list(moves).index(game)\n",
    "    allmoves = game.split()\n",
    "    all_moves = [elem for elem in allmoves if elem not in char_list] \n",
    "    total_moves = len(all_moves)\n",
    "    if winner[index] == 'black':\n",
    "        game_winner = -1\n",
    "    else:\n",
    "        game_winner = 1\n",
    "    board = chess.Board()\n",
    "    for i in range(len(all_moves)):\n",
    "        board.push_san(all_moves[i])\n",
    "        value = game_winner * (i/total_moves)\n",
    "        matrix = make_matrix(board.copy())\n",
    "        rows = translate(matrix,chess_dict)\n",
    "        X.append([rows])\n",
    "        y.append(value)\n",
    "X = np.array(X).reshape(len(X),8,8,12)\n",
    "y = np.array(y)\n",
    "X.shape"
   ]
  },
  {
   "cell_type": "code",
   "execution_count": 8,
   "id": "innovative-drinking",
   "metadata": {},
   "outputs": [
    {
     "data": {
      "text/plain": [
       "array([[-0.05864916],\n",
       "       [-0.05593431],\n",
       "       [-0.06118045],\n",
       "       ...,\n",
       "       [-0.04058474],\n",
       "       [-0.08160309],\n",
       "       [-0.06821276]], dtype=float32)"
      ]
     },
     "execution_count": 8,
     "metadata": {},
     "output_type": "execute_result"
    }
   ],
   "source": [
    "from keras import callbacks, optimizers\n",
    "from keras.layers import (LSTM, BatchNormalization, Dense, Dropout, Flatten,\n",
    "                          TimeDistributed)\n",
    "from keras.layers.convolutional import Conv2D, MaxPooling2D\n",
    "from keras.models import Sequential, load_model, model_from_json\n",
    "model = Sequential()\n",
    "model.add(Conv2D(filters=64, kernel_size=1, activation='relu', input_shape=(8,8,12)))\n",
    "model.add(MaxPooling2D())\n",
    "model.add(Conv2D(filters=24, kernel_size=1, activation='relu'))\n",
    "model.add(MaxPooling2D())\n",
    "model.add(Conv2D(filters=10, kernel_size=1, activation='relu'))\n",
    "model.add(Flatten())\n",
    "model.add(BatchNormalization())\n",
    "model.add(Dense(1,activation = 'tanh'))\n",
    "model.predict(X)"
   ]
  },
  {
   "cell_type": "code",
   "execution_count": 17,
   "id": "interior-policy",
   "metadata": {},
   "outputs": [
    {
     "name": "stdout",
     "output_type": "stream",
     "text": [
      "WARNING:tensorflow:`period` argument is deprecated. Please use `save_freq` to specify the frequency in number of batches seen.\n",
      "Training Network...\n",
      "Epoch 1/10\n",
      "40222/40222 - 105s - loss: 0.3279\n",
      "Epoch 2/10\n",
      "40222/40222 - 108s - loss: 0.3255\n",
      "Epoch 3/10\n",
      "40222/40222 - 112s - loss: 0.3255\n",
      "Epoch 4/10\n",
      "40222/40222 - 108s - loss: 0.3252\n",
      "Epoch 5/10\n",
      "40222/40222 - 105s - loss: 0.3209\n",
      "Epoch 6/10\n",
      "40222/40222 - 107s - loss: 0.3137\n",
      "Epoch 7/10\n",
      "40222/40222 - 105s - loss: 0.3107\n",
      "Epoch 8/10\n",
      "40222/40222 - 105s - loss: 0.3093\n",
      "Epoch 9/10\n",
      "40222/40222 - 105s - loss: 0.3059\n",
      "Epoch 10/10\n",
      "40222/40222 - 103s - loss: 0.2903\n"
     ]
    },
    {
     "data": {
      "text/plain": [
       "[<matplotlib.lines.Line2D at 0x174b9a2e0>]"
      ]
     },
     "execution_count": 17,
     "metadata": {},
     "output_type": "execute_result"
    },
    {
     "data": {
      "image/png": "[encoded data removed]",
      "text/plain": [
       "<Figure size 432x288 with 1 Axes>"
      ]
     },
     "metadata": {
      "needs_background": "light"
     },
     "output_type": "display_data"
    }
   ],
   "source": [
    "from matplotlib import pyplot as plt\n",
    "model.compile(optimizer='Nadam', loss='mse')\n",
    "#dirx = 'C:\\\\Users\\\\v_sim\\\\Desktop\\\\Files\\\\Programs\\\\ML\\\\Best Models'\n",
    "#os.chdir(dirx)\n",
    "h5 = 'chess' + '_best_model' + '.h5'\n",
    "checkpoint = callbacks.ModelCheckpoint(h5,\n",
    "                                           monitor='loss',\n",
    "                                           verbose=0,\n",
    "                                           save_best_only=True,\n",
    "                                           save_weights_only=True,\n",
    "                                           mode='auto',\n",
    "                                           period=1)\n",
    "es = callbacks.EarlyStopping(monitor='loss', mode='min', verbose=1, patience=5000/10)\n",
    "callback = [checkpoint,es]\n",
    "json = 'chess' + '_best_model' + '.json'\n",
    "model_json = model.to_json()\n",
    "with open(json, \"w\") as json_file:\n",
    "    json_file.write(model_json)\n",
    "print('Training Network...')\n",
    "history = model.fit(X,y,epochs = 10,verbose = 2,callbacks = callback)\n",
    "plt.plot(history.history['loss'])\n"
   ]
  },
  {
   "cell_type": "code",
   "execution_count": 10,
   "id": "banner-output",
   "metadata": {},
   "outputs": [
    {
     "name": "stdout",
     "output_type": "stream",
     "text": [
      "WARNING:tensorflow:`period` argument is deprecated. Please use `save_freq` to specify the frequency in number of batches seen.\n",
      "Training Network...\n",
      "Epoch 1/25\n",
      "40222/40222 - 95s - loss: 0.3272\n",
      "Epoch 2/25\n",
      "40222/40222 - 100s - loss: 0.3255\n",
      "Epoch 3/25\n",
      "40222/40222 - 103s - loss: 0.3255\n",
      "Epoch 4/25\n",
      "40222/40222 - 101s - loss: 0.3255\n",
      "Epoch 5/25\n",
      "40222/40222 - 102s - loss: 0.3255\n",
      "Epoch 6/25\n",
      "40222/40222 - 102s - loss: 0.3255\n",
      "Epoch 7/25\n",
      "40222/40222 - 101s - loss: 0.3255\n",
      "Epoch 8/25\n",
      "40222/40222 - 100s - loss: 0.3255\n",
      "Epoch 9/25\n",
      "40222/40222 - 100s - loss: 0.3255\n",
      "Epoch 10/25\n",
      "40222/40222 - 97s - loss: 0.3255\n",
      "Epoch 11/25\n",
      "40222/40222 - 95s - loss: 0.3255\n",
      "Epoch 12/25\n",
      "40222/40222 - 97s - loss: 0.3255\n",
      "Epoch 13/25\n",
      "40222/40222 - 95s - loss: 0.3255\n",
      "Epoch 14/25\n",
      "40222/40222 - 97s - loss: 0.3255\n",
      "Epoch 15/25\n",
      "40222/40222 - 96s - loss: 0.3255\n",
      "Epoch 16/25\n",
      "40222/40222 - 96s - loss: 0.3255\n",
      "Epoch 17/25\n",
      "40222/40222 - 95s - loss: 0.3255\n",
      "Epoch 18/25\n",
      "40222/40222 - 94s - loss: 0.3255\n",
      "Epoch 19/25\n",
      "40222/40222 - 93s - loss: 0.3255\n",
      "Epoch 20/25\n",
      "40222/40222 - 93s - loss: 0.3255\n",
      "Epoch 21/25\n",
      "40222/40222 - 94s - loss: 0.3255\n",
      "Epoch 22/25\n",
      "40222/40222 - 95s - loss: 0.3255\n",
      "Epoch 23/25\n",
      "40222/40222 - 97s - loss: 0.3255\n",
      "Epoch 24/25\n",
      "40222/40222 - 1154s - loss: 0.3255\n",
      "Epoch 25/25\n",
      "40222/40222 - 97s - loss: 0.3255\n"
     ]
    },
    {
     "data": {
      "text/plain": [
       "[<matplotlib.lines.Line2D at 0x296bd26d0>]"
      ]
     },
     "execution_count": 10,
     "metadata": {},
     "output_type": "execute_result"
    },
    {
     "data": {
      "image/png": "[encoded data removed]",
      "text/plain": [
       "<Figure size 432x288 with 1 Axes>"
      ]
     },
     "metadata": {
      "needs_background": "light"
     },
     "output_type": "display_data"
    }
   ],
   "source": [
    "from matplotlib import pyplot as plt\n",
    "model.compile(optimizer='Nadam', loss='mse')\n",
    "#dirx = 'C:\\\\Users\\\\v_sim\\\\Desktop\\\\Files\\\\Programs\\\\ML\\\\Best Models'\n",
    "#os.chdir(dirx)\n",
    "h5 = 'chess' + '_best_model' + '.h5'\n",
    "checkpoint = callbacks.ModelCheckpoint(h5,\n",
    "                                           monitor='loss',\n",
    "                                           verbose=0,\n",
    "                                           save_best_only=True,\n",
    "                                           save_weights_only=True,\n",
    "                                           mode='auto',\n",
    "                                           period=1)\n",
    "es = callbacks.EarlyStopping(monitor='loss', mode='min', verbose=1, patience=5000/10)\n",
    "callback = [checkpoint,es]\n",
    "json = 'chess' + '_best_model' + '.json'\n",
    "model_json = model.to_json()\n",
    "with open(json, \"w\") as json_file:\n",
    "    json_file.write(model_json)\n",
    "print('Training Network...')\n",
    "history = model.fit(X,y,epochs = 25,verbose = 2,callbacks = callback)\n",
    "plt.plot(history.history['loss'])"
   ]
  },
  {
   "cell_type": "code",
   "execution_count": 19,
   "id": "biblical-wilson",
   "metadata": {},
   "outputs": [
    {
     "ename": "IndexError",
     "evalue": "list index out of range",
     "output_type": "error",
     "traceback": [
      "\u001b[0;31m---------------------------------------------------------------------------\u001b[0m",
      "\u001b[0;31mIndexError\u001b[0m                                Traceback (most recent call last)",
      "\u001b[0;32m<ipython-input-19-0ad13f36dbe3>\u001b[0m in \u001b[0;36m<module>\u001b[0;34m\u001b[0m\n\u001b[1;32m      1\u001b[0m \u001b[0mrandint\u001b[0m \u001b[0;34m=\u001b[0m \u001b[0mnp\u001b[0m\u001b[0;34m.\u001b[0m\u001b[0mrandom\u001b[0m\u001b[0;34m.\u001b[0m\u001b[0mrandint\u001b[0m\u001b[0;34m(\u001b[0m\u001b[0;36m1\u001b[0m\u001b[0;34m,\u001b[0m\u001b[0mlen\u001b[0m\u001b[0;34m(\u001b[0m\u001b[0mmoves\u001b[0m\u001b[0;34m)\u001b[0m\u001b[0;34m)\u001b[0m\u001b[0;34m\u001b[0m\u001b[0;34m\u001b[0m\u001b[0m\n\u001b[0;32m----> 2\u001b[0;31m \u001b[0mrandint2\u001b[0m \u001b[0;34m=\u001b[0m \u001b[0mnp\u001b[0m\u001b[0;34m.\u001b[0m\u001b[0mrandom\u001b[0m\u001b[0;34m.\u001b[0m\u001b[0mrandint\u001b[0m\u001b[0;34m(\u001b[0m\u001b[0;36m1\u001b[0m\u001b[0;34m,\u001b[0m\u001b[0mlen\u001b[0m\u001b[0;34m(\u001b[0m\u001b[0mall_moves\u001b[0m\u001b[0;34m[\u001b[0m\u001b[0mrandint\u001b[0m\u001b[0;34m]\u001b[0m\u001b[0;34m)\u001b[0m\u001b[0;34m)\u001b[0m\u001b[0;34m\u001b[0m\u001b[0;34m\u001b[0m\u001b[0m\n\u001b[0m\u001b[1;32m      3\u001b[0m \u001b[0mboard\u001b[0m \u001b[0;34m=\u001b[0m \u001b[0mchess\u001b[0m\u001b[0;34m.\u001b[0m\u001b[0mBoard\u001b[0m\u001b[0;34m(\u001b[0m\u001b[0;34m)\u001b[0m\u001b[0;34m\u001b[0m\u001b[0;34m\u001b[0m\u001b[0m\n\u001b[1;32m      4\u001b[0m \u001b[0;32mfor\u001b[0m \u001b[0mi\u001b[0m \u001b[0;32min\u001b[0m \u001b[0mrange\u001b[0m\u001b[0;34m(\u001b[0m\u001b[0mrandint2\u001b[0m\u001b[0;34m)\u001b[0m\u001b[0;34m:\u001b[0m\u001b[0;34m\u001b[0m\u001b[0;34m\u001b[0m\u001b[0m\n\u001b[1;32m      5\u001b[0m     \u001b[0mboard\u001b[0m\u001b[0;34m.\u001b[0m\u001b[0mpush_san\u001b[0m\u001b[0;34m(\u001b[0m\u001b[0mall_moves\u001b[0m\u001b[0;34m[\u001b[0m\u001b[0mrandint\u001b[0m\u001b[0;34m]\u001b[0m\u001b[0;34m[\u001b[0m\u001b[0mi\u001b[0m\u001b[0;34m]\u001b[0m\u001b[0;34m)\u001b[0m\u001b[0;34m\u001b[0m\u001b[0;34m\u001b[0m\u001b[0m\n",
      "\u001b[0;31mIndexError\u001b[0m: list index out of range"
     ]
    }
   ],
   "source": [
    "randint1 = np.random.randint(1,len(moves))\n",
    "randint2 = np.random.randint(1,len(all_moves[randint]))\n",
    "board = chess.Board()\n",
    "for i in range(randint2):\n",
    "    board.push_san(all_moves[randint][i])\n",
    "matrix = make_matrix(board.copy())\n",
    "rows = translate(matrix,chess_dict)\n",
    "print('Board Evaluation:',model.predict([rows])[0][0])\n",
    "board"
   ]
  },
  {
   "cell_type": "code",
   "execution_count": null,
   "id": "moderate-bonus",
   "metadata": {},
   "outputs": [],
   "source": [
    "randint = np.random.randint(1,len(moves))\n",
    "randint2 = np.random.randint(1,len(moves[randint].split()))\n",
    "board = chess.Board()\n",
    "for i in range(randint2):\n",
    "    board.push_san(moves[randint].split()[i])\n",
    "matrix = make_matrix(board.copy())\n",
    "rows = translate(matrix,chess_dict)\n",
    "print('Board Evaluation:',model.predict([rows])[0][0])\n",
    "board"
   ]
  },
  {
   "cell_type": "code",
   "execution_count": 9,
   "id": "horizontal-magnitude",
   "metadata": {},
   "outputs": [
    {
     "name": "stdout",
     "output_type": "stream",
     "text": [
      "WARNING:tensorflow:`period` argument is deprecated. Please use `save_freq` to specify the frequency in number of batches seen.\n",
      "Training Network...\n",
      "Epoch 1/10\n",
      "50622/50622 - 121s - loss: 0.3266\n",
      "Epoch 2/10\n",
      "50622/50622 - 129s - loss: 0.3255\n",
      "Epoch 3/10\n",
      "50622/50622 - 126s - loss: 0.3255\n",
      "Epoch 4/10\n",
      "50622/50622 - 127s - loss: 0.3255\n",
      "Epoch 5/10\n",
      "50622/50622 - 129s - loss: 0.3255\n",
      "Epoch 6/10\n",
      "50622/50622 - 128s - loss: 0.3255\n",
      "Epoch 7/10\n",
      "50622/50622 - 123s - loss: 0.3255\n",
      "Epoch 8/10\n",
      "50622/50622 - 125s - loss: 0.3255\n",
      "Epoch 9/10\n",
      "50622/50622 - 123s - loss: 0.3255\n",
      "Epoch 10/10\n",
      "50622/50622 - 127s - loss: 0.3255\n"
     ]
    },
    {
     "data": {
      "text/plain": [
       "[<matplotlib.lines.Line2D at 0x17a1b17c0>]"
      ]
     },
     "execution_count": 9,
     "metadata": {},
     "output_type": "execute_result"
    },
    {
     "data": {
      "image/png": "[encoded data removed]",
      "text/plain": [
       "<Figure size 432x288 with 1 Axes>"
      ]
     },
     "metadata": {
      "needs_background": "light"
     },
     "output_type": "display_data"
    }
   ],
   "source": [
    "from matplotlib import pyplot as plt\n",
    "model.compile(optimizer='Nadam', loss='mse')\n",
    "#dirx = 'C:\\\\Users\\\\v_sim\\\\Desktop\\\\Files\\\\Programs\\\\ML\\\\Best Models'\n",
    "#os.chdir(dirx)\n",
    "h5 = 'chess' + '_best_model' + '.h5'\n",
    "checkpoint = callbacks.ModelCheckpoint(h5,\n",
    "                                           monitor='loss',\n",
    "                                           verbose=0,\n",
    "                                           save_best_only=True,\n",
    "                                           save_weights_only=True,\n",
    "                                           mode='auto',\n",
    "                                           period=1)\n",
    "es = callbacks.EarlyStopping(monitor='loss', mode='min', verbose=1, patience=5000/10)\n",
    "callback = [checkpoint,es]\n",
    "json = 'chess' + '_best_model' + '.json'\n",
    "model_json = model.to_json()\n",
    "with open(json, \"w\") as json_file:\n",
    "    json_file.write(model_json)\n",
    "print('Training Network...')\n",
    "history = model.fit(X,y,epochs = 10,verbose = 2,callbacks = callback)\n",
    "plt.plot(history.history['loss'])"
   ]
  },
  {
   "cell_type": "code",
   "execution_count": null,
   "id": "smaller-darkness",
   "metadata": {},
   "outputs": [],
   "source": []
  }
 ],
 "metadata": {
  "kernelspec": {
   "display_name": "tfenv",
   "language": "python",
   "name": "tfenv"
  },
  "language_info": {
   "codemirror_mode": {
    "name": "ipython",
    "version": 3
   },
   "file_extension": ".py",
   "mimetype": "text/x-python",
   "name": "python",
   "nbconvert_exporter": "python",
   "pygments_lexer": "ipython3",
   "version": "3.8.8"
  }
 },
 "nbformat": 4,
 "nbformat_minor": 5
}
